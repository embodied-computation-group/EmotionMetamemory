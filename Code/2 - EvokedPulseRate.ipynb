{
 "cells": [
  {
   "cell_type": "markdown",
   "metadata": {},
   "source": [
    "Author: Nicolas Legrand <nicolas.legrand@cfin.au.dk>"
   ]
  },
  {
   "cell_type": "code",
   "execution_count": 2,
   "metadata": {},
   "outputs": [],
   "source": [
    "import numpy as np\n",
    "import os\n",
    "import pandas as pd\n",
    "import seaborn as sns\n",
    "from scipy.interpolate import interp1d\n",
    "from scipy.ndimage import gaussian_filter1d\n",
    "from mne.stats import fdr_correction\n",
    "import matplotlib.pyplot as plt\n",
    "from systole.detection import oxi_peaks, rr_artefacts\n",
    "from systole.correction import correct_peaks\n",
    "from systole.utils import heart_rate, to_epochs\n",
    "from systole.plotting import plot_subspaces\n",
    "import pingouin as pg"
   ]
  },
  {
   "cell_type": "code",
   "execution_count": 3,
   "metadata": {},
   "outputs": [],
   "source": [
    "parent = os.path.join(os.getcwd(), os.pardir)\n",
    "path = os.path.join(os.path.abspath(parent), 'Data', 'Raw')\n",
    "subjects = [f for f in os.listdir(path) if len(f) == 5]\n",
    "filename = path + '/{nSub}/{nSub}_Aro_{arousal}_Val_{valence}_Learn_{learningTime}_Block_{block}.txt'  # Template for signal files"
   ]
  },
  {
   "cell_type": "markdown",
   "metadata": {},
   "source": [
    "**Drop participants**"
   ]
  },
  {
   "cell_type": "code",
   "execution_count": 4,
   "metadata": {},
   "outputs": [],
   "source": [
    "# For bad signal\n",
    "reject = ['11141']\n",
    "\n",
    "# Based on behavioural results\n",
    "reject.extend(['11119', '11124', '11138', '11131', '47617'])"
   ]
  },
  {
   "cell_type": "code",
   "execution_count": 5,
   "metadata": {},
   "outputs": [],
   "source": [
    "subjects = [f for f in subjects if f not in reject]"
   ]
  },
  {
   "cell_type": "markdown",
   "metadata": {},
   "source": [
    "# Extract heart rate"
   ]
  },
  {
   "cell_type": "code",
   "execution_count": 6,
   "metadata": {},
   "outputs": [],
   "source": [
    "def plot_epochs(epoch, triggers, peaks, time, new_time, hr, outliers, figure_name):\n",
    "    \"\"\"Plot epochs and artefact rejection.\n",
    "    \"\"\"\n",
    "\n",
    "    fig = plt.figure(figsize=(13, 8))\n",
    "    ax1 = plt.subplot2grid((2,3), (0,0), colspan=4)\n",
    "    # Triggers\n",
    "    for i in np.where(np.asarray(triggers)==2)[0]/75:\n",
    "        ax1.axvline(x=i, linestyle='--', color='k', linewidth=1)\n",
    "    # Rejected epochs\n",
    "    for i in np.where(triggers==2)[0][np.isnan(epoch.mean(1))]:\n",
    "        ax1.axvspan((i/75), (i/75)+6, alpha=0.2, color='gray')\n",
    "    ax1.plot(time[peaks][1:], 60000/np.diff(np.where(peaks)[0]), 'o', color='#0b559f', markersize=3, alpha=0.8)\n",
    "    ax1.plot(new_time, hr, '--', color='gray', linewidth=1)\n",
    "    ax1.plot(time[peaks][1:][outliers], 60000/np.diff(np.where(peaks)[0])[outliers], 'ro', markersize=6, alpha=0.8)\n",
    "    ax1.set_ylim(40, 120)\n",
    "    ax1.set_xlabel('Time (s)')\n",
    "    ax1.set_ylabel('BPM')\n",
    "    ax1.set_title('Heart rate time serie')\n",
    "\n",
    "    ax2 = plt.subplot2grid((2,3), (1,0))\n",
    "    ax3 = plt.subplot2grid((2,3), (1,1))\n",
    "\n",
    "    plot_subspaces(np.diff(np.where(peaks)[0]), ax=[ax2, ax3])\n",
    "\n",
    "    ax4 = plt.subplot2grid((2,3), (1,2))\n",
    "    for i in range(len(epoch)):\n",
    "        ax4.plot(np.arange(tmin, tmax, 1/75), epoch[i], color='#55a868', alpha=0.2)\n",
    "    ax4.plot(np.arange(tmin, tmax, 1/75), np.nanmean(epoch, axis=0), color='#55a868', linewidth=3)\n",
    "    ax4.set_xlabel('Time (s)')\n",
    "    ax4.set_ylabel('BPM')\n",
    "    ax4.set_ylim(-15, 15)\n",
    "    ax4.set_title('Evoked response')\n",
    "\n",
    "    plt.tight_layout()\n",
    "    plt.savefig(figure_name, dpi=300)\n",
    "    plt.close(fig)"
   ]
  },
  {
   "cell_type": "code",
   "execution_count": 7,
   "metadata": {},
   "outputs": [],
   "source": [
    "def extract_epochs(signal, triggers, valence, arousal, learningTime, nSub, tmin, tmax, draw_figure=False, figure_name=None):\n",
    "    \"\"\"This function will find peaks in signal, reject artefacts and epoch the raw data.\n",
    "    If draw_figure is True, will also create a report figure.\"\"\"\n",
    "\n",
    "    # Find peaks\n",
    "    signal, peaks = oxi_peaks(signal, noise_removal=False)\n",
    "    \n",
    "    # Correct extra and missed peaks\n",
    "    peaks_correction = correct_peaks(peaks)\n",
    "    peaks = peaks_correction['clean_peaks']\n",
    "\n",
    "    # Extract instantaneous heartrate\n",
    "    hr, time = heart_rate(peaks, sfreq=1000, unit='bpm', kind='previous')\n",
    "    hr = gaussian_filter1d(hr, sigma=100)\n",
    "\n",
    "    # Interpolate HR to 75 Hz\n",
    "    f = interp1d(time, hr, fill_value=\"extrapolate\")\n",
    "    new_time = np.arange(0, time[-1], 1/75)\n",
    "    hr = f(new_time)\n",
    "\n",
    "    # Outliers detection\n",
    "    artefacts = rr_artefacts(np.diff(np.where(peaks)[0]))\n",
    "    outliers = artefacts['ectopic'] | artefacts['short'] | artefacts['long'] | artefacts['extra'] | artefacts['missed']\n",
    "        \n",
    "    # Create bads vector\n",
    "    reject = np.zeros(len(peaks))\n",
    "    for i in np.where(outliers)[0]:\n",
    "        reject[np.where(peaks)[0][i-1]:np.where(peaks)[0][i+1]] = 1\n",
    "        \n",
    "    # Interpolate HR to 75 Hz\n",
    "    f = interp1d(time, reject, fill_value=\"extrapolate\")\n",
    "    new_time = np.arange(0, time[-1], 1/75)\n",
    "    reject = f(new_time)\n",
    "\n",
    "     # Epoching\n",
    "    epoch = to_epochs(hr, triggers, sfreq=75, event_val=2, tmin=tmin, tmax=tmax, apply_baseline=(0), reject=reject)\n",
    "    \n",
    "    if draw_figure:\n",
    "        plot_epochs(epoch=epoch, triggers=triggers, peaks=peaks, time=time, new_time=new_time, hr=hr,\n",
    "                   outliers=outliers, figure_name=figure_name)\n",
    "\n",
    "    return epoch"
   ]
  },
  {
   "cell_type": "code",
   "execution_count": 10,
   "metadata": {},
   "outputs": [],
   "source": [
    "tmin, tmax = -1, 6\n",
    "final_df = pd.DataFrame([])\n",
    "for nSub in subjects:\n",
    "\n",
    "    output_dir = os.path.join(os.path.abspath(parent), 'Reports/InstantaneousPulseRate', nSub)\n",
    "    if not os.path.exists(output_dir):\n",
    "        os.mkdir(output_dir)\n",
    "    figure_name = output_dir + '/Valence{valence}_Arousal{arousal}_Learning{learningTime}.png'  # Template for report\n",
    "\n",
    "    \n",
    "    # Import behavioural data\n",
    "    df = pd.read_csv(os.path.join(path, nSub, 'Subject_{}.txt'.format(nSub)), na_values=['Nan'])\n",
    "\n",
    "    # Loop through conditions\n",
    "    for val in ['High', 'Low']:\n",
    "        for aro in ['High', 'Low']:\n",
    "            for learningTime in [30, 60, 90]:\n",
    "\n",
    "                # Filter for condition\n",
    "                this_df = df.copy()[(df.Arousal == aro) & (df.Valence == val) & (df.LearningTime == learningTime)]\n",
    "                nBlock = this_df.nBlock.iloc[0]  # Get block numbers\n",
    "                \n",
    "                # Import pulse oximeter recording\n",
    "                signal_file = filename.format(nSub=nSub, arousal=aro, valence=val, learningTime=learningTime, block=int(nBlock))\n",
    "                signal_df = pd.read_csv(signal_file)\n",
    "                \n",
    "                # Remove NaN, fast and slow RT\n",
    "                drop = ((this_df.RT.isnull() | this_df.Confidence.isnull()) | \n",
    "                        (this_df.RT < .1) | (this_df.RT > (this_df.RT.median() + (3 * this_df.RT.std()))))    \n",
    "\n",
    "                # Extract epoch and plot artefact rejection\n",
    "                epoch = extract_epochs(signal_df.signal.to_numpy(),\n",
    "                                       signal_df.triggers.to_numpy(),\n",
    "                                       valence=val, arousal=aro, learningTime=learningTime, nSub=nSub,\n",
    "                                       tmin=tmin, tmax=tmax, draw_figure=True,\n",
    "                                       figure_name=figure_name.format(valence=val, arousal=aro, learningTime=learningTime));\n",
    "            \n",
    "                # Drop no response and artefact trials\n",
    "                drop = drop | np.isnan(epoch.mean(axis=1))\n",
    "                epoch = epoch[~drop, :]\n",
    "                \n",
    "                # Downsample\n",
    "                epoch = epoch[:, ::15]\n",
    "\n",
    "                final_df = final_df.append(pd.DataFrame({'Arousal':aro,\n",
    "                                                         'Valence': val,\n",
    "                                                         'Keep': len(epoch)/50,\n",
    "                                                         'LearningTime': learningTime,\n",
    "                                                         'Time': np.arange(tmin, tmax, 1/5),\n",
    "                                                         'Subject': nSub,\n",
    "                                                         'BPM': np.nanmean(epoch, axis=0)}))"
   ]
  },
  {
   "cell_type": "code",
   "execution_count": 11,
   "metadata": {},
   "outputs": [],
   "source": [
    "final_df.to_csv(os.path.join(os.path.abspath(parent), 'Data', 'Preprocessed', 'evoked.txt'))"
   ]
  },
  {
   "cell_type": "code",
   "execution_count": 13,
   "metadata": {},
   "outputs": [],
   "source": [
    "final_df = pd.read_csv(os.path.join(os.path.abspath(parent), 'Data', 'Preprocessed', 'evoked.txt'))"
   ]
  },
  {
   "cell_type": "markdown",
   "metadata": {},
   "source": [
    "# Plot results"
   ]
  },
  {
   "cell_type": "markdown",
   "metadata": {},
   "source": [
    "Compute % trial rejection."
   ]
  },
  {
   "cell_type": "code",
   "execution_count": 14,
   "metadata": {},
   "outputs": [
    {
     "data": {
      "text/plain": [
       "(0.18229885057474338, 0.11499298742489612)"
      ]
     },
     "execution_count": 14,
     "metadata": {},
     "output_type": "execute_result"
    }
   ],
   "source": [
    "1 - final_df.Keep.mean(), (1 - final_df.Keep).std()"
   ]
  },
  {
   "cell_type": "markdown",
   "metadata": {},
   "source": [
    "## Subject level"
   ]
  },
  {
   "cell_type": "code",
   "execution_count": 18,
   "metadata": {},
   "outputs": [],
   "source": [
    "for nSub in subjects:\n",
    "    df = final_df[final_df.Subject==int(nSub)].copy()\n",
    "\n",
    "    # Plot results\n",
    "    fig, axs = plt.subplots(1, 1, figsize=(5, 5))\n",
    "\n",
    "    sns.lineplot(data=df, x='Time', y='BPM', hue='Valence', style='Arousal', ci=68, palette=['steelblue', 'firebrick'], ax=axs)\n",
    "    axs.axhline(y=0, linestyle='--', color='gray')\n",
    "    axs.axvline(x=0, linestyle='--', color='k')\n",
    "    axs.set_ylim(-6, 6)\n",
    "    axs.set_ylabel('delta BPM')\n",
    "    axs.set_title('Evoked responses')\n",
    "\n",
    "    plt.tight_layout()\n",
    "    dirName = os.path.join(os.path.abspath(parent), 'Reports', 'Evoked', nSub)\n",
    "    if not os.path.exists(output_dir):\n",
    "        os.mkdir(dirName)\n",
    "    plt.savefig(dirName + 'Evoked.png', dpi=300)\n",
    "    plt.close(fig)"
   ]
  },
  {
   "cell_type": "markdown",
   "metadata": {},
   "source": [
    "## Main effects"
   ]
  },
  {
   "cell_type": "code",
   "execution_count": 19,
   "metadata": {},
   "outputs": [
    {
     "data": {
      "image/png": "[encoded data removed]",
      "text/plain": [
       "<Figure size 288x288 with 1 Axes>"
      ]
     },
     "metadata": {
      "needs_background": "light"
     },
     "output_type": "display_data"
    }
   ],
   "source": [
    "tmin, tmax = -1, 6\n",
    "sns.set_context('paper')\n",
    "fig, axs = plt.subplots(1, 1, figsize=(4, 4))\n",
    "\n",
    "df = final_df.copy().groupby(['Subject', 'Valence', 'Arousal', 'Time'], as_index=False).mean()\n",
    "df.Valence = df.Valence.replace(['Low', 'High'], ['Negative', 'Positive'])\n",
    "\n",
    "sns.lineplot(data=df, x='Time', y='BPM', hue='Valence', style='Arousal', ci=68, palette=['firebrick', 'steelblue'], ax=axs)\n",
    "axs.axhline(y=0, linestyle='--', color='gray')\n",
    "axs.axvline(x=0, linestyle='--', color='k')\n",
    "axs.set_ylim(-4, 4)\n",
    "axs.set_ylabel('$\\Delta$ BPM')\n",
    "axs.set_xlabel('Time (s)')\n",
    "axs.set_title('Heart rate evoked response')\n",
    "\n",
    "sns.despine()\n",
    "plt.tight_layout()\n",
    "#dirName = os.path.join(os.path.abspath(parent), 'Figures')\n",
    "#plt.savefig(dirName + 'Evoked.svg', dpi=300)"
   ]
  },
  {
   "cell_type": "code",
   "execution_count": 20,
   "metadata": {},
   "outputs": [
    {
     "data": {
      "image/png": "[encoded data removed]",
      "text/plain": [
       "<Figure size 144x288 with 1 Axes>"
      ]
     },
     "metadata": {
      "needs_background": "light"
     },
     "output_type": "display_data"
    }
   ],
   "source": [
    "tmin, tmax = -1, 6\n",
    "sns.set_context('paper')\n",
    "fig, axs = plt.subplots(1, 1, figsize=(2, 4))\n",
    "\n",
    "df = final_df.copy()[final_df.Time > 0].groupby(['Subject', 'Valence', 'Arousal'], as_index=False).mean()\n",
    "axs.axhline(y=0, linestyle='--', color='gray')\n",
    "sns.stripplot(data=df[(df.Time > 0)&(df.Time < 5)], x='Arousal', y='BPM', hue='Valence', palette=['steelblue', 'firebrick'], linewidth=1, dodge=True, ax=axs, alpha=.6)\n",
    "sns.pointplot(data=df[(df.Time > 0)&(df.Time < 5)], x='Arousal', y='BPM', hue='Valence', scale=.8, palette=['steelblue', 'firebrick'], dodge=True, ax=axs)\n",
    "axs.set_ylim(-4, 4)\n",
    "axs.set_ylabel('Average $\\Delta$ BPM')\n",
    "axs.set_title('Average BPM')\n",
    "axs.get_legend().remove()\n",
    "sns.despine()\n",
    "plt.tight_layout()\n",
    "#dirName = os.path.join(os.path.abspath(parent), 'Figures')\n",
    "#plt.savefig(dirName + 'Evoked_average.svg', dpi=300)"
   ]
  },
  {
   "cell_type": "code",
   "execution_count": 21,
   "metadata": {},
   "outputs": [
    {
     "data": {
      "text/html": [
       "<div>\n",
       "<style scoped>\n",
       "    .dataframe tbody tr th:only-of-type {\n",
       "        vertical-align: middle;\n",
       "    }\n",
       "\n",
       "    .dataframe tbody tr th {\n",
       "        vertical-align: top;\n",
       "    }\n",
       "\n",
       "    .dataframe thead th {\n",
       "        text-align: right;\n",
       "    }\n",
       "</style>\n",
       "<table border=\"1\" class=\"dataframe\">\n",
       "  <thead>\n",
       "    <tr style=\"text-align: right;\">\n",
       "      <th></th>\n",
       "      <th>Source</th>\n",
       "      <th>SS</th>\n",
       "      <th>ddof1</th>\n",
       "      <th>ddof2</th>\n",
       "      <th>MS</th>\n",
       "      <th>F</th>\n",
       "      <th>p-unc</th>\n",
       "      <th>p-GG-corr</th>\n",
       "      <th>np2</th>\n",
       "      <th>eps</th>\n",
       "    </tr>\n",
       "  </thead>\n",
       "  <tbody>\n",
       "    <tr>\n",
       "      <th>0</th>\n",
       "      <td>Valence</td>\n",
       "      <td>0.057701</td>\n",
       "      <td>1</td>\n",
       "      <td>28</td>\n",
       "      <td>0.057701</td>\n",
       "      <td>0.397794</td>\n",
       "      <td>0.533345</td>\n",
       "      <td>0.533345</td>\n",
       "      <td>0.014008</td>\n",
       "      <td>1.0</td>\n",
       "    </tr>\n",
       "    <tr>\n",
       "      <th>1</th>\n",
       "      <td>Arousal</td>\n",
       "      <td>0.002576</td>\n",
       "      <td>1</td>\n",
       "      <td>28</td>\n",
       "      <td>0.002576</td>\n",
       "      <td>0.021062</td>\n",
       "      <td>0.885650</td>\n",
       "      <td>0.885650</td>\n",
       "      <td>0.000752</td>\n",
       "      <td>1.0</td>\n",
       "    </tr>\n",
       "    <tr>\n",
       "      <th>2</th>\n",
       "      <td>Valence * Arousal</td>\n",
       "      <td>0.012158</td>\n",
       "      <td>1</td>\n",
       "      <td>28</td>\n",
       "      <td>0.012158</td>\n",
       "      <td>0.077488</td>\n",
       "      <td>0.782777</td>\n",
       "      <td>0.782777</td>\n",
       "      <td>0.002760</td>\n",
       "      <td>1.0</td>\n",
       "    </tr>\n",
       "  </tbody>\n",
       "</table>\n",
       "</div>"
      ],
      "text/plain": [
       "              Source        SS  ddof1  ddof2        MS         F     p-unc  \\\n",
       "0            Valence  0.057701      1     28  0.057701  0.397794  0.533345   \n",
       "1            Arousal  0.002576      1     28  0.002576  0.021062  0.885650   \n",
       "2  Valence * Arousal  0.012158      1     28  0.012158  0.077488  0.782777   \n",
       "\n",
       "   p-GG-corr       np2  eps  \n",
       "0   0.533345  0.014008  1.0  \n",
       "1   0.885650  0.000752  1.0  \n",
       "2   0.782777  0.002760  1.0  "
      ]
     },
     "execution_count": 21,
     "metadata": {},
     "output_type": "execute_result"
    }
   ],
   "source": [
    "pg.rm_anova(data=df, subject='Subject', within=['Valence', 'Arousal'], dv='BPM')"
   ]
  }
 ],
 "metadata": {
  "kernelspec": {
   "display_name": "Python 3",
   "language": "python",
   "name": "python3"
  },
  "language_info": {
   "codemirror_mode": {
    "name": "ipython",
    "version": 3
   },
   "file_extension": ".py",
   "mimetype": "text/x-python",
   "name": "python",
   "nbconvert_exporter": "python",
   "pygments_lexer": "ipython3",
   "version": "3.7.6"
  }
 },
 "nbformat": 4,
 "nbformat_minor": 4
}
