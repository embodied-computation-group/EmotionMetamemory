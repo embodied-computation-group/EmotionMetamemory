{
 "cells": [
  {
   "cell_type": "markdown",
   "metadata": {},
   "source": [
    "Author: Nicolas Legrand <nicolas.legrand@cfin.au.dk>"
   ]
  },
  {
   "cell_type": "code",
   "execution_count": 1,
   "metadata": {},
   "outputs": [],
   "source": [
    "import os\n",
    "import pandas as pd\n",
    "import pingouin as pg\n",
    "import numpy as np\n",
    "import seaborn as sns\n",
    "import matplotlib.pyplot as plt\n",
    "from sdt import trials2counts, dprime"
   ]
  },
  {
   "cell_type": "markdown",
   "metadata": {},
   "source": [
    "# Preprocessing"
   ]
  },
  {
   "cell_type": "code",
   "execution_count": 2,
   "metadata": {},
   "outputs": [],
   "source": [
    "parent = os.path.join(os.getcwd(), os.pardir)\n",
    "path = os.path.join(os.path.abspath(parent), 'Data', 'Raw')\n",
    "subjects = [f for f in os.listdir(path) if len(f) == 5]"
   ]
  },
  {
   "cell_type": "markdown",
   "metadata": {},
   "source": [
    "Extract confidence, response time, d prime and average accuracy and save in the `final_df` variable.\n",
    "\n",
    "Extrac nR_S1 and nR_S2 vector for hierarchical bayesian estimation and save in the `metacog.txt` file.\n",
    "\n",
    "During etraction, the following rules are applied to remove outliers, either in the trial or participant level:\n",
    "\n",
    "* Trials with RTs faster than 100ms.\n",
    "\n",
    "* Trial with RTs greater than 3 standard deviations than the median RT value."
   ]
  },
  {
   "cell_type": "code",
   "execution_count": 3,
   "metadata": {},
   "outputs": [],
   "source": [
    "final_df, metacog_df = pd.DataFrame([]), pd.DataFrame([])\n",
    "\n",
    "for nSub in subjects:\n",
    "\n",
    "    # Find files name\n",
    "    for file in os.listdir(os.path.join(path, nSub)):\n",
    "        if file.endswith(\".txt\") & file.startswith('Subject') & ('Block' not in file):\n",
    "            df = pd.read_csv(os.path.join(path, nSub, file), na_values=['Nan'])\n",
    "\n",
    "    # Start loop\n",
    "    for val in ['High', 'Low']:\n",
    "\n",
    "        for aro in ['High', 'Low']:\n",
    "            \n",
    "            # Filter for subject and conditions\n",
    "            this_df = df.copy()[(df.Arousal == aro) & (df.Valence == val)]\n",
    "            \n",
    "            # Remove NaN values\n",
    "            this_df = this_df[~((this_df.RT.isnull() | this_df.Confidence.isnull()))]\n",
    "            \n",
    "            # Drop fast RT\n",
    "            this_df = this_df[(this_df.RT > .1)]\n",
    "            \n",
    "            # Reject slow trials median + 3 std\n",
    "            this_df = this_df[this_df.RT < (this_df.RT.median() + (3 * this_df.RT.std()))]\n",
    "            \n",
    "            # Check enough trials remain\n",
    "            if len(this_df)<50:\n",
    "                raise ValueError\n",
    "\n",
    "            #########\n",
    "            # Metrics\n",
    "            #########\n",
    "\n",
    "            # Response time\n",
    "            rt = this_df.RT.median()\n",
    "            \n",
    "            # Accuracy\n",
    "            acc = (this_df.KeyPressed == this_df.Expected).mean()\n",
    "            \n",
    "            # Confidence\n",
    "            conf = this_df.Confidence[~this_df.RT.isnull()].mean()\n",
    "            \n",
    "            # Extrac nR_S1 and nR_S2 vector and save separately\n",
    "            stimID = this_df.Expected == 'right'\n",
    "            response = this_df.KeyPressed == 'right'\n",
    "            rating = this_df.Confidence\n",
    "            nRatings = 7\n",
    "            nR_S1, nR_S2 = trials2counts(stimID, response, rating, nRatings)\n",
    "\n",
    "            metacog_df = metacog_df.append(pd.DataFrame({'Subject': nSub,\n",
    "                           'Valence': val,\n",
    "                           'Arousal': aro,\n",
    "                           'nR_S1': nR_S1,\n",
    "                           'nR_S2': nR_S2,\n",
    "                           'bins': np.arange(0, 14)}), ignore_index=True)\n",
    "\n",
    "            final_df = final_df.append(pd.DataFrame({'Subject': [nSub],\n",
    "                                                     'Valence': [val],\n",
    "                                                     'Arousal': [aro],\n",
    "                                                     'Confidence': [conf],\n",
    "                                                     'RT': [rt],\n",
    "                                                     'Keep': [len(this_df)/150],\n",
    "                                                     'Accuracy': [acc]}), ignore_index=True)\n",
    "\n",
    "out_path = os.path.join(os.path.abspath(parent), 'Data', 'Preprocessed', 'metacog.txt')\n",
    "metacog_df.to_csv(out_path)"
   ]
  },
  {
   "cell_type": "markdown",
   "metadata": {},
   "source": [
    "Here, we use the `metad.R` to fit hierarchical bayesian estimation of meta d' following the method described in:\n",
    "\n",
    "    Fleming, S. M. (2017). HMeta-d: hierarchical Bayesian estimation of metacognitive efficiency from confidence ratings. *Neuroscience of Consciousness, 2017(1)*.\n",
    "\n",
    "This script will save the results in `metadprim.txt`."
   ]
  },
  {
   "cell_type": "code",
   "execution_count": 4,
   "metadata": {},
   "outputs": [],
   "source": [
    "# Merge to final_df\n",
    "metadprime_df = pd.read_csv(os.path.join(os.path.abspath(parent), 'Data', 'Preprocessed', 'metadprime.txt'), sep='\\t')\n",
    "metadprime_df.Subject = metadprime_df.Subject.astype(str)\n",
    "final_df = pd.merge(final_df, metadprime_df, on=['Subject', 'Valence', 'Arousal'])"
   ]
  },
  {
   "cell_type": "markdown",
   "metadata": {},
   "source": [
    "Check for the following criteria:\n",
    "\n",
    "* Participants with mean d' less than or equal to 0.\n",
    "\n",
    "* Participants with mean meta-d' less than or equal to 0."
   ]
  },
  {
   "cell_type": "code",
   "execution_count": 5,
   "metadata": {},
   "outputs": [],
   "source": [
    "assert ~(final_df.MetadPrime<=0).any()\n",
    "assert ~(final_df.dPrime<=0).any()"
   ]
  },
  {
   "cell_type": "markdown",
   "metadata": {},
   "source": [
    "* Participants whose values for d', confidence and response time on any condition are greater than 1.5 times the interquartile range."
   ]
  },
  {
   "cell_type": "code",
   "execution_count": 6,
   "metadata": {},
   "outputs": [
    {
     "name": "stdout",
     "output_type": "stream",
     "text": [
      "11119 - RT\n",
      "11138 - dPrime\n",
      "11124 - dPrime\n",
      "11131 - dPrime\n",
      "47617 - dPrime\n"
     ]
    }
   ],
   "source": [
    "reject = []\n",
    "for metric in ['RT', 'dPrime', 'Confidence']:\n",
    "    for val in ['High', 'Low']:\n",
    "\n",
    "        for aro in ['High', 'Low']:\n",
    "            \n",
    "            this_df = final_df.copy().groupby(['Subject', 'Valence', 'Arousal'], as_index=False).mean()\n",
    "            this_df = this_df[(this_df.Valence == val) & (this_df.Arousal == aro)]\n",
    "            \n",
    "            q1 = this_df[metric].quantile(.25)\n",
    "            q3 = this_df[metric].quantile(.75)\n",
    "\n",
    "            for sub in this_df.Subject[this_df[metric] > this_df[metric].quantile(.75) + ((q3 - q1) * 1.5)]:\n",
    "                print(sub + ' - ' + metric)\n",
    "                reject.append(sub)\n",
    "            for sub in this_df.Subject[this_df[metric] < this_df[metric].quantile(.25) - ((q3 - q1) * 1.5)]:\n",
    "                print(sub + ' - ' + metric)\n",
    "                reject.append(sub)"
   ]
  },
  {
   "cell_type": "code",
   "execution_count": 7,
   "metadata": {},
   "outputs": [],
   "source": [
    "# Create reject vector\n",
    "final_df['Reject'] = 0\n",
    "for sub in reject:\n",
    "    final_df.loc[final_df.Subject == sub, 'Reject'] = 1"
   ]
  },
  {
   "cell_type": "markdown",
   "metadata": {},
   "source": [
    "* Check for extrem values in Hit and False alarm rates (under 0.05 or greater than 0.95)."
   ]
  },
  {
   "cell_type": "code",
   "execution_count": 8,
   "metadata": {},
   "outputs": [],
   "source": [
    "assert ~(final_df.HR > 0.95).any()\n",
    "assert ~(final_df.FAR < 0.05).any()"
   ]
  },
  {
   "cell_type": "markdown",
   "metadata": {},
   "source": [
    "Save dataframe"
   ]
  },
  {
   "cell_type": "code",
   "execution_count": 9,
   "metadata": {},
   "outputs": [],
   "source": [
    "final_df.to_csv(os.path.join(os.path.abspath(parent), 'Data', 'Preprocessed', 'Behaviour.txt'))"
   ]
  },
  {
   "cell_type": "markdown",
   "metadata": {},
   "source": [
    "Reject outliers"
   ]
  },
  {
   "cell_type": "code",
   "execution_count": 10,
   "metadata": {},
   "outputs": [],
   "source": [
    "final_df = final_df[final_df.Reject!=1]"
   ]
  },
  {
   "cell_type": "markdown",
   "metadata": {},
   "source": [
    "Compute % of drop."
   ]
  },
  {
   "cell_type": "code",
   "execution_count": 11,
   "metadata": {},
   "outputs": [
    {
     "data": {
      "text/plain": [
       "(3.494444444444444, 3.687104571105834)"
      ]
     },
     "execution_count": 11,
     "metadata": {},
     "output_type": "execute_result"
    }
   ],
   "source": [
    "((1 - final_df.Keep) * 100).mean(), ((1 - final_df.Keep) * 100).std()"
   ]
  },
  {
   "cell_type": "markdown",
   "metadata": {},
   "source": [
    "# Results"
   ]
  },
  {
   "cell_type": "markdown",
   "metadata": {},
   "source": [
    "## Response time"
   ]
  },
  {
   "cell_type": "code",
   "execution_count": 12,
   "metadata": {},
   "outputs": [
    {
     "data": {
      "text/plain": [
       "<matplotlib.legend.Legend at 0x147193186c8>"
      ]
     },
     "execution_count": 12,
     "metadata": {},
     "output_type": "execute_result"
    },
    {
     "data": {
      "image/png": "[encoded data removed]",
      "text/plain": [
       "<Figure size 360x360 with 1 Axes>"
      ]
     },
     "metadata": {},
     "output_type": "display_data"
    }
   ],
   "source": [
    "sns.set_context('paper')\n",
    "plt.figure(figsize=(5, 5))\n",
    "sns.stripplot(data=final_df, x='Arousal', y='RT', hue='Valence',\n",
    "              palette=['firebrick', 'steelblue'], linewidth=1, dodge=True, alpha=.6)\n",
    "sns.pointplot(data=final_df, x='Arousal', y='RT', hue='Valence',\n",
    "              palette=['firebrick', 'steelblue'], dodge=True, ci=68)\n",
    "plt.title('Response time')\n",
    "plt.ylabel('Response time (s)')\n",
    "sns.despine(trim=10)\n",
    "plt.legend()"
   ]
  },
  {
   "cell_type": "code",
   "execution_count": 13,
   "metadata": {},
   "outputs": [
    {
     "data": {
      "text/html": [
       "<div>\n",
       "<style scoped>\n",
       "    .dataframe tbody tr th:only-of-type {\n",
       "        vertical-align: middle;\n",
       "    }\n",
       "\n",
       "    .dataframe tbody tr th {\n",
       "        vertical-align: top;\n",
       "    }\n",
       "\n",
       "    .dataframe thead th {\n",
       "        text-align: right;\n",
       "    }\n",
       "</style>\n",
       "<table border=\"1\" class=\"dataframe\">\n",
       "  <thead>\n",
       "    <tr style=\"text-align: right;\">\n",
       "      <th></th>\n",
       "      <th>Source</th>\n",
       "      <th>SS</th>\n",
       "      <th>ddof1</th>\n",
       "      <th>ddof2</th>\n",
       "      <th>MS</th>\n",
       "      <th>F</th>\n",
       "      <th>p-unc</th>\n",
       "      <th>p-GG-corr</th>\n",
       "      <th>np2</th>\n",
       "      <th>eps</th>\n",
       "    </tr>\n",
       "  </thead>\n",
       "  <tbody>\n",
       "    <tr>\n",
       "      <th>0</th>\n",
       "      <td>Valence</td>\n",
       "      <td>0.034</td>\n",
       "      <td>1</td>\n",
       "      <td>29</td>\n",
       "      <td>0.034</td>\n",
       "      <td>5.548</td>\n",
       "      <td>0.025480</td>\n",
       "      <td>0.025480</td>\n",
       "      <td>0.161</td>\n",
       "      <td>1.0</td>\n",
       "    </tr>\n",
       "    <tr>\n",
       "      <th>1</th>\n",
       "      <td>Arousal</td>\n",
       "      <td>0.020</td>\n",
       "      <td>1</td>\n",
       "      <td>29</td>\n",
       "      <td>0.020</td>\n",
       "      <td>6.937</td>\n",
       "      <td>0.013405</td>\n",
       "      <td>0.013405</td>\n",
       "      <td>0.193</td>\n",
       "      <td>1.0</td>\n",
       "    </tr>\n",
       "    <tr>\n",
       "      <th>2</th>\n",
       "      <td>Valence * Arousal</td>\n",
       "      <td>0.030</td>\n",
       "      <td>1</td>\n",
       "      <td>29</td>\n",
       "      <td>0.030</td>\n",
       "      <td>7.558</td>\n",
       "      <td>0.010175</td>\n",
       "      <td>0.010175</td>\n",
       "      <td>0.207</td>\n",
       "      <td>1.0</td>\n",
       "    </tr>\n",
       "  </tbody>\n",
       "</table>\n",
       "</div>"
      ],
      "text/plain": [
       "              Source     SS  ddof1  ddof2     MS      F     p-unc  p-GG-corr  \\\n",
       "0            Valence  0.034      1     29  0.034  5.548  0.025480   0.025480   \n",
       "1            Arousal  0.020      1     29  0.020  6.937  0.013405   0.013405   \n",
       "2  Valence * Arousal  0.030      1     29  0.030  7.558  0.010175   0.010175   \n",
       "\n",
       "     np2  eps  \n",
       "0  0.161  1.0  \n",
       "1  0.193  1.0  \n",
       "2  0.207  1.0  "
      ]
     },
     "execution_count": 13,
     "metadata": {},
     "output_type": "execute_result"
    }
   ],
   "source": [
    "pg.rm_anova(data=final_df, subject='Subject', within=['Valence', 'Arousal'], dv='RT')"
   ]
  },
  {
   "cell_type": "code",
   "execution_count": 14,
   "metadata": {},
   "outputs": [
    {
     "data": {
      "text/html": [
       "<div>\n",
       "<style scoped>\n",
       "    .dataframe tbody tr th:only-of-type {\n",
       "        vertical-align: middle;\n",
       "    }\n",
       "\n",
       "    .dataframe tbody tr th {\n",
       "        vertical-align: top;\n",
       "    }\n",
       "\n",
       "    .dataframe thead th {\n",
       "        text-align: right;\n",
       "    }\n",
       "</style>\n",
       "<table border=\"1\" class=\"dataframe\">\n",
       "  <thead>\n",
       "    <tr style=\"text-align: right;\">\n",
       "      <th></th>\n",
       "      <th>Contrast</th>\n",
       "      <th>Arousal</th>\n",
       "      <th>A</th>\n",
       "      <th>B</th>\n",
       "      <th>Paired</th>\n",
       "      <th>Parametric</th>\n",
       "      <th>T</th>\n",
       "      <th>dof</th>\n",
       "      <th>Tail</th>\n",
       "      <th>p-unc</th>\n",
       "      <th>BF10</th>\n",
       "      <th>cohen</th>\n",
       "    </tr>\n",
       "  </thead>\n",
       "  <tbody>\n",
       "    <tr>\n",
       "      <th>0</th>\n",
       "      <td>Arousal</td>\n",
       "      <td>-</td>\n",
       "      <td>High</td>\n",
       "      <td>Low</td>\n",
       "      <td>True</td>\n",
       "      <td>True</td>\n",
       "      <td>2.634</td>\n",
       "      <td>29.0</td>\n",
       "      <td>two-sided</td>\n",
       "      <td>0.013405</td>\n",
       "      <td>3.518</td>\n",
       "      <td>0.126</td>\n",
       "    </tr>\n",
       "    <tr>\n",
       "      <th>1</th>\n",
       "      <td>Valence</td>\n",
       "      <td>-</td>\n",
       "      <td>High</td>\n",
       "      <td>Low</td>\n",
       "      <td>True</td>\n",
       "      <td>True</td>\n",
       "      <td>-2.355</td>\n",
       "      <td>29.0</td>\n",
       "      <td>two-sided</td>\n",
       "      <td>0.025480</td>\n",
       "      <td>2.064</td>\n",
       "      <td>-0.164</td>\n",
       "    </tr>\n",
       "    <tr>\n",
       "      <th>2</th>\n",
       "      <td>Arousal * Valence</td>\n",
       "      <td>High</td>\n",
       "      <td>High</td>\n",
       "      <td>Low</td>\n",
       "      <td>True</td>\n",
       "      <td>True</td>\n",
       "      <td>-0.110</td>\n",
       "      <td>29.0</td>\n",
       "      <td>two-sided</td>\n",
       "      <td>0.913004</td>\n",
       "      <td>0.196</td>\n",
       "      <td>-0.009</td>\n",
       "    </tr>\n",
       "    <tr>\n",
       "      <th>3</th>\n",
       "      <td>Arousal * Valence</td>\n",
       "      <td>Low</td>\n",
       "      <td>High</td>\n",
       "      <td>Low</td>\n",
       "      <td>True</td>\n",
       "      <td>True</td>\n",
       "      <td>-3.339</td>\n",
       "      <td>29.0</td>\n",
       "      <td>two-sided</td>\n",
       "      <td>0.002322</td>\n",
       "      <td>15.815</td>\n",
       "      <td>-0.325</td>\n",
       "    </tr>\n",
       "  </tbody>\n",
       "</table>\n",
       "</div>"
      ],
      "text/plain": [
       "            Contrast Arousal     A    B Paired  Parametric      T   dof  \\\n",
       "0            Arousal       -  High  Low   True        True  2.634  29.0   \n",
       "1            Valence       -  High  Low   True        True -2.355  29.0   \n",
       "2  Arousal * Valence    High  High  Low   True        True -0.110  29.0   \n",
       "3  Arousal * Valence     Low  High  Low   True        True -3.339  29.0   \n",
       "\n",
       "        Tail     p-unc    BF10  cohen  \n",
       "0  two-sided  0.013405   3.518  0.126  \n",
       "1  two-sided  0.025480   2.064 -0.164  \n",
       "2  two-sided  0.913004   0.196 -0.009  \n",
       "3  two-sided  0.002322  15.815 -0.325  "
      ]
     },
     "execution_count": 14,
     "metadata": {},
     "output_type": "execute_result"
    }
   ],
   "source": [
    "pg.pairwise_ttests(data=final_df, subject='Subject', within=['Arousal', 'Valence'], dv='RT', effsize='cohen')"
   ]
  },
  {
   "cell_type": "markdown",
   "metadata": {},
   "source": [
    "# Criterion"
   ]
  },
  {
   "cell_type": "code",
   "execution_count": 15,
   "metadata": {},
   "outputs": [
    {
     "data": {
      "text/plain": [
       "<matplotlib.legend.Legend at 0x147192f1988>"
      ]
     },
     "execution_count": 15,
     "metadata": {},
     "output_type": "execute_result"
    },
    {
     "data": {
      "image/png": "[encoded data removed]",
      "text/plain": [
       "<Figure size 360x360 with 1 Axes>"
      ]
     },
     "metadata": {},
     "output_type": "display_data"
    }
   ],
   "source": [
    "sns.set_context('paper')\n",
    "plt.figure(figsize=(5, 5))\n",
    "sns.stripplot(data=final_df, x='Arousal', y='Criterion', hue='Valence',\n",
    "              palette=['firebrick', 'steelblue'], linewidth=1, dodge=True, alpha=.6)\n",
    "sns.pointplot(data=final_df, x='Arousal', y='Criterion', hue='Valence',\n",
    "              palette=['firebrick', 'steelblue'], dodge=True, ci=68)\n",
    "plt.title('Criterion')\n",
    "plt.ylabel('Criterion')\n",
    "sns.despine(trim=10)\n",
    "plt.legend()"
   ]
  },
  {
   "cell_type": "code",
   "execution_count": 16,
   "metadata": {},
   "outputs": [
    {
     "data": {
      "text/html": [
       "<div>\n",
       "<style scoped>\n",
       "    .dataframe tbody tr th:only-of-type {\n",
       "        vertical-align: middle;\n",
       "    }\n",
       "\n",
       "    .dataframe tbody tr th {\n",
       "        vertical-align: top;\n",
       "    }\n",
       "\n",
       "    .dataframe thead th {\n",
       "        text-align: right;\n",
       "    }\n",
       "</style>\n",
       "<table border=\"1\" class=\"dataframe\">\n",
       "  <thead>\n",
       "    <tr style=\"text-align: right;\">\n",
       "      <th></th>\n",
       "      <th>Source</th>\n",
       "      <th>SS</th>\n",
       "      <th>ddof1</th>\n",
       "      <th>ddof2</th>\n",
       "      <th>MS</th>\n",
       "      <th>F</th>\n",
       "      <th>p-unc</th>\n",
       "      <th>p-GG-corr</th>\n",
       "      <th>np2</th>\n",
       "      <th>eps</th>\n",
       "    </tr>\n",
       "  </thead>\n",
       "  <tbody>\n",
       "    <tr>\n",
       "      <th>0</th>\n",
       "      <td>Valence</td>\n",
       "      <td>0.088</td>\n",
       "      <td>1</td>\n",
       "      <td>29</td>\n",
       "      <td>0.088</td>\n",
       "      <td>3.682</td>\n",
       "      <td>0.064898</td>\n",
       "      <td>0.064898</td>\n",
       "      <td>0.113</td>\n",
       "      <td>1.0</td>\n",
       "    </tr>\n",
       "    <tr>\n",
       "      <th>1</th>\n",
       "      <td>Arousal</td>\n",
       "      <td>0.004</td>\n",
       "      <td>1</td>\n",
       "      <td>29</td>\n",
       "      <td>0.004</td>\n",
       "      <td>0.360</td>\n",
       "      <td>0.553001</td>\n",
       "      <td>0.553001</td>\n",
       "      <td>0.012</td>\n",
       "      <td>1.0</td>\n",
       "    </tr>\n",
       "    <tr>\n",
       "      <th>2</th>\n",
       "      <td>Valence * Arousal</td>\n",
       "      <td>0.009</td>\n",
       "      <td>1</td>\n",
       "      <td>29</td>\n",
       "      <td>0.009</td>\n",
       "      <td>0.631</td>\n",
       "      <td>0.433327</td>\n",
       "      <td>0.433327</td>\n",
       "      <td>0.021</td>\n",
       "      <td>1.0</td>\n",
       "    </tr>\n",
       "  </tbody>\n",
       "</table>\n",
       "</div>"
      ],
      "text/plain": [
       "              Source     SS  ddof1  ddof2     MS      F     p-unc  p-GG-corr  \\\n",
       "0            Valence  0.088      1     29  0.088  3.682  0.064898   0.064898   \n",
       "1            Arousal  0.004      1     29  0.004  0.360  0.553001   0.553001   \n",
       "2  Valence * Arousal  0.009      1     29  0.009  0.631  0.433327   0.433327   \n",
       "\n",
       "     np2  eps  \n",
       "0  0.113  1.0  \n",
       "1  0.012  1.0  \n",
       "2  0.021  1.0  "
      ]
     },
     "execution_count": 16,
     "metadata": {},
     "output_type": "execute_result"
    }
   ],
   "source": [
    "pg.rm_anova(data=final_df, subject='Subject', within=['Valence', 'Arousal'], dv='Criterion')"
   ]
  },
  {
   "cell_type": "markdown",
   "metadata": {},
   "source": [
    "# Accuracy"
   ]
  },
  {
   "cell_type": "code",
   "execution_count": 17,
   "metadata": {},
   "outputs": [
    {
     "data": {
      "text/plain": [
       "<matplotlib.legend.Legend at 0x147188a4288>"
      ]
     },
     "execution_count": 17,
     "metadata": {},
     "output_type": "execute_result"
    },
    {
     "data": {
      "image/png": "[encoded data removed]",
      "text/plain": [
       "<Figure size 360x360 with 1 Axes>"
      ]
     },
     "metadata": {},
     "output_type": "display_data"
    }
   ],
   "source": [
    "sns.set_context('paper')\n",
    "plt.figure(figsize=(5, 5))\n",
    "sns.stripplot(data=final_df, x='Arousal', y='Accuracy', hue='Valence',\n",
    "              palette=['firebrick', 'steelblue'], linewidth=1, dodge=True, alpha=.6)\n",
    "sns.pointplot(data=final_df, x='Arousal', y='Accuracy', hue='Valence',\n",
    "              palette=['firebrick', 'steelblue'], dodge=True, ci=68)\n",
    "plt.title('Accuracy')\n",
    "plt.ylabel('Accuracy')\n",
    "sns.despine(trim=10)\n",
    "plt.legend()"
   ]
  },
  {
   "cell_type": "code",
   "execution_count": 18,
   "metadata": {},
   "outputs": [
    {
     "data": {
      "text/html": [
       "<div>\n",
       "<style scoped>\n",
       "    .dataframe tbody tr th:only-of-type {\n",
       "        vertical-align: middle;\n",
       "    }\n",
       "\n",
       "    .dataframe tbody tr th {\n",
       "        vertical-align: top;\n",
       "    }\n",
       "\n",
       "    .dataframe thead th {\n",
       "        text-align: right;\n",
       "    }\n",
       "</style>\n",
       "<table border=\"1\" class=\"dataframe\">\n",
       "  <thead>\n",
       "    <tr style=\"text-align: right;\">\n",
       "      <th></th>\n",
       "      <th>Source</th>\n",
       "      <th>SS</th>\n",
       "      <th>ddof1</th>\n",
       "      <th>ddof2</th>\n",
       "      <th>MS</th>\n",
       "      <th>F</th>\n",
       "      <th>p-unc</th>\n",
       "      <th>p-GG-corr</th>\n",
       "      <th>np2</th>\n",
       "      <th>eps</th>\n",
       "    </tr>\n",
       "  </thead>\n",
       "  <tbody>\n",
       "    <tr>\n",
       "      <th>0</th>\n",
       "      <td>Valence</td>\n",
       "      <td>0.012</td>\n",
       "      <td>1</td>\n",
       "      <td>29</td>\n",
       "      <td>0.012</td>\n",
       "      <td>9.887</td>\n",
       "      <td>0.003824</td>\n",
       "      <td>0.003824</td>\n",
       "      <td>0.254</td>\n",
       "      <td>1.0</td>\n",
       "    </tr>\n",
       "    <tr>\n",
       "      <th>1</th>\n",
       "      <td>Arousal</td>\n",
       "      <td>0.000</td>\n",
       "      <td>1</td>\n",
       "      <td>29</td>\n",
       "      <td>0.000</td>\n",
       "      <td>0.002</td>\n",
       "      <td>0.964202</td>\n",
       "      <td>0.964202</td>\n",
       "      <td>0.000</td>\n",
       "      <td>1.0</td>\n",
       "    </tr>\n",
       "    <tr>\n",
       "      <th>2</th>\n",
       "      <td>Valence * Arousal</td>\n",
       "      <td>0.009</td>\n",
       "      <td>1</td>\n",
       "      <td>29</td>\n",
       "      <td>0.009</td>\n",
       "      <td>7.799</td>\n",
       "      <td>0.009160</td>\n",
       "      <td>0.009160</td>\n",
       "      <td>0.212</td>\n",
       "      <td>1.0</td>\n",
       "    </tr>\n",
       "  </tbody>\n",
       "</table>\n",
       "</div>"
      ],
      "text/plain": [
       "              Source     SS  ddof1  ddof2     MS      F     p-unc  p-GG-corr  \\\n",
       "0            Valence  0.012      1     29  0.012  9.887  0.003824   0.003824   \n",
       "1            Arousal  0.000      1     29  0.000  0.002  0.964202   0.964202   \n",
       "2  Valence * Arousal  0.009      1     29  0.009  7.799  0.009160   0.009160   \n",
       "\n",
       "     np2  eps  \n",
       "0  0.254  1.0  \n",
       "1  0.000  1.0  \n",
       "2  0.212  1.0  "
      ]
     },
     "execution_count": 18,
     "metadata": {},
     "output_type": "execute_result"
    }
   ],
   "source": [
    "pg.rm_anova(data=final_df, subject='Subject', within=['Valence', 'Arousal'], dv='Accuracy')"
   ]
  },
  {
   "cell_type": "code",
   "execution_count": 19,
   "metadata": {},
   "outputs": [
    {
     "data": {
      "text/html": [
       "<div>\n",
       "<style scoped>\n",
       "    .dataframe tbody tr th:only-of-type {\n",
       "        vertical-align: middle;\n",
       "    }\n",
       "\n",
       "    .dataframe tbody tr th {\n",
       "        vertical-align: top;\n",
       "    }\n",
       "\n",
       "    .dataframe thead th {\n",
       "        text-align: right;\n",
       "    }\n",
       "</style>\n",
       "<table border=\"1\" class=\"dataframe\">\n",
       "  <thead>\n",
       "    <tr style=\"text-align: right;\">\n",
       "      <th></th>\n",
       "      <th>Contrast</th>\n",
       "      <th>Arousal</th>\n",
       "      <th>A</th>\n",
       "      <th>B</th>\n",
       "      <th>Paired</th>\n",
       "      <th>Parametric</th>\n",
       "      <th>T</th>\n",
       "      <th>dof</th>\n",
       "      <th>Tail</th>\n",
       "      <th>p-unc</th>\n",
       "      <th>BF10</th>\n",
       "      <th>cohen</th>\n",
       "    </tr>\n",
       "  </thead>\n",
       "  <tbody>\n",
       "    <tr>\n",
       "      <th>0</th>\n",
       "      <td>Arousal</td>\n",
       "      <td>-</td>\n",
       "      <td>High</td>\n",
       "      <td>Low</td>\n",
       "      <td>True</td>\n",
       "      <td>True</td>\n",
       "      <td>0.045</td>\n",
       "      <td>29.0</td>\n",
       "      <td>two-sided</td>\n",
       "      <td>0.964202</td>\n",
       "      <td>0.195</td>\n",
       "      <td>0.008</td>\n",
       "    </tr>\n",
       "    <tr>\n",
       "      <th>1</th>\n",
       "      <td>Valence</td>\n",
       "      <td>-</td>\n",
       "      <td>High</td>\n",
       "      <td>Low</td>\n",
       "      <td>True</td>\n",
       "      <td>True</td>\n",
       "      <td>3.144</td>\n",
       "      <td>29.0</td>\n",
       "      <td>two-sided</td>\n",
       "      <td>0.003824</td>\n",
       "      <td>10.255</td>\n",
       "      <td>0.504</td>\n",
       "    </tr>\n",
       "    <tr>\n",
       "      <th>2</th>\n",
       "      <td>Arousal * Valence</td>\n",
       "      <td>High</td>\n",
       "      <td>High</td>\n",
       "      <td>Low</td>\n",
       "      <td>True</td>\n",
       "      <td>True</td>\n",
       "      <td>0.287</td>\n",
       "      <td>29.0</td>\n",
       "      <td>two-sided</td>\n",
       "      <td>0.775835</td>\n",
       "      <td>0.202</td>\n",
       "      <td>0.055</td>\n",
       "    </tr>\n",
       "    <tr>\n",
       "      <th>3</th>\n",
       "      <td>Arousal * Valence</td>\n",
       "      <td>Low</td>\n",
       "      <td>High</td>\n",
       "      <td>Low</td>\n",
       "      <td>True</td>\n",
       "      <td>True</td>\n",
       "      <td>4.221</td>\n",
       "      <td>29.0</td>\n",
       "      <td>two-sided</td>\n",
       "      <td>0.000219</td>\n",
       "      <td>128.303</td>\n",
       "      <td>0.791</td>\n",
       "    </tr>\n",
       "  </tbody>\n",
       "</table>\n",
       "</div>"
      ],
      "text/plain": [
       "            Contrast Arousal     A    B Paired  Parametric      T   dof  \\\n",
       "0            Arousal       -  High  Low   True        True  0.045  29.0   \n",
       "1            Valence       -  High  Low   True        True  3.144  29.0   \n",
       "2  Arousal * Valence    High  High  Low   True        True  0.287  29.0   \n",
       "3  Arousal * Valence     Low  High  Low   True        True  4.221  29.0   \n",
       "\n",
       "        Tail     p-unc     BF10  cohen  \n",
       "0  two-sided  0.964202    0.195  0.008  \n",
       "1  two-sided  0.003824   10.255  0.504  \n",
       "2  two-sided  0.775835    0.202  0.055  \n",
       "3  two-sided  0.000219  128.303  0.791  "
      ]
     },
     "execution_count": 19,
     "metadata": {},
     "output_type": "execute_result"
    }
   ],
   "source": [
    "pg.pairwise_ttests(data=final_df, subject='Subject', within=['Arousal', 'Valence'], dv='Accuracy', effsize='cohen')"
   ]
  },
  {
   "cell_type": "markdown",
   "metadata": {},
   "source": [
    "# Confidence"
   ]
  },
  {
   "cell_type": "code",
   "execution_count": 20,
   "metadata": {},
   "outputs": [
    {
     "data": {
      "text/plain": [
       "<matplotlib.legend.Legend at 0x147188a4448>"
      ]
     },
     "execution_count": 20,
     "metadata": {},
     "output_type": "execute_result"
    },
    {
     "data": {
      "image/png": "[encoded data removed]",
      "text/plain": [
       "<Figure size 360x360 with 1 Axes>"
      ]
     },
     "metadata": {},
     "output_type": "display_data"
    }
   ],
   "source": [
    "sns.set_context('paper')\n",
    "plt.figure(figsize=(5, 5))\n",
    "sns.stripplot(data=final_df, x='Arousal', y='Confidence', hue='Valence',\n",
    "              palette=['firebrick', 'steelblue'], linewidth=1, dodge=True, alpha=.6)\n",
    "sns.pointplot(data=final_df, x='Arousal', y='Confidence', hue='Valence',\n",
    "              palette=['firebrick', 'steelblue'], dodge=True, ci=68)\n",
    "plt.title('Confidence')\n",
    "plt.ylabel('Confidence')\n",
    "sns.despine(trim=10)\n",
    "plt.legend()"
   ]
  },
  {
   "cell_type": "code",
   "execution_count": 21,
   "metadata": {},
   "outputs": [
    {
     "data": {
      "text/html": [
       "<div>\n",
       "<style scoped>\n",
       "    .dataframe tbody tr th:only-of-type {\n",
       "        vertical-align: middle;\n",
       "    }\n",
       "\n",
       "    .dataframe tbody tr th {\n",
       "        vertical-align: top;\n",
       "    }\n",
       "\n",
       "    .dataframe thead th {\n",
       "        text-align: right;\n",
       "    }\n",
       "</style>\n",
       "<table border=\"1\" class=\"dataframe\">\n",
       "  <thead>\n",
       "    <tr style=\"text-align: right;\">\n",
       "      <th></th>\n",
       "      <th>Source</th>\n",
       "      <th>SS</th>\n",
       "      <th>ddof1</th>\n",
       "      <th>ddof2</th>\n",
       "      <th>MS</th>\n",
       "      <th>F</th>\n",
       "      <th>p-unc</th>\n",
       "      <th>p-GG-corr</th>\n",
       "      <th>np2</th>\n",
       "      <th>eps</th>\n",
       "    </tr>\n",
       "  </thead>\n",
       "  <tbody>\n",
       "    <tr>\n",
       "      <th>0</th>\n",
       "      <td>Valence</td>\n",
       "      <td>2.015</td>\n",
       "      <td>1</td>\n",
       "      <td>29</td>\n",
       "      <td>2.015</td>\n",
       "      <td>14.976</td>\n",
       "      <td>0.000569</td>\n",
       "      <td>0.000569</td>\n",
       "      <td>0.341</td>\n",
       "      <td>1.0</td>\n",
       "    </tr>\n",
       "    <tr>\n",
       "      <th>1</th>\n",
       "      <td>Arousal</td>\n",
       "      <td>0.065</td>\n",
       "      <td>1</td>\n",
       "      <td>29</td>\n",
       "      <td>0.065</td>\n",
       "      <td>0.777</td>\n",
       "      <td>0.385176</td>\n",
       "      <td>0.385176</td>\n",
       "      <td>0.026</td>\n",
       "      <td>1.0</td>\n",
       "    </tr>\n",
       "    <tr>\n",
       "      <th>2</th>\n",
       "      <td>Valence * Arousal</td>\n",
       "      <td>0.169</td>\n",
       "      <td>1</td>\n",
       "      <td>29</td>\n",
       "      <td>0.169</td>\n",
       "      <td>2.919</td>\n",
       "      <td>0.098246</td>\n",
       "      <td>0.098246</td>\n",
       "      <td>0.091</td>\n",
       "      <td>1.0</td>\n",
       "    </tr>\n",
       "  </tbody>\n",
       "</table>\n",
       "</div>"
      ],
      "text/plain": [
       "              Source     SS  ddof1  ddof2     MS       F     p-unc  p-GG-corr  \\\n",
       "0            Valence  2.015      1     29  2.015  14.976  0.000569   0.000569   \n",
       "1            Arousal  0.065      1     29  0.065   0.777  0.385176   0.385176   \n",
       "2  Valence * Arousal  0.169      1     29  0.169   2.919  0.098246   0.098246   \n",
       "\n",
       "     np2  eps  \n",
       "0  0.341  1.0  \n",
       "1  0.026  1.0  \n",
       "2  0.091  1.0  "
      ]
     },
     "execution_count": 21,
     "metadata": {},
     "output_type": "execute_result"
    }
   ],
   "source": [
    "pg.rm_anova(data=final_df, subject='Subject', within=['Valence', 'Arousal'], dv='Confidence')"
   ]
  },
  {
   "cell_type": "code",
   "execution_count": 22,
   "metadata": {},
   "outputs": [
    {
     "data": {
      "text/html": [
       "<div>\n",
       "<style scoped>\n",
       "    .dataframe tbody tr th:only-of-type {\n",
       "        vertical-align: middle;\n",
       "    }\n",
       "\n",
       "    .dataframe tbody tr th {\n",
       "        vertical-align: top;\n",
       "    }\n",
       "\n",
       "    .dataframe thead th {\n",
       "        text-align: right;\n",
       "    }\n",
       "</style>\n",
       "<table border=\"1\" class=\"dataframe\">\n",
       "  <thead>\n",
       "    <tr style=\"text-align: right;\">\n",
       "      <th></th>\n",
       "      <th>Contrast</th>\n",
       "      <th>Arousal</th>\n",
       "      <th>A</th>\n",
       "      <th>B</th>\n",
       "      <th>Paired</th>\n",
       "      <th>Parametric</th>\n",
       "      <th>T</th>\n",
       "      <th>dof</th>\n",
       "      <th>Tail</th>\n",
       "      <th>p-unc</th>\n",
       "      <th>BF10</th>\n",
       "      <th>cohen</th>\n",
       "    </tr>\n",
       "  </thead>\n",
       "  <tbody>\n",
       "    <tr>\n",
       "      <th>0</th>\n",
       "      <td>Arousal</td>\n",
       "      <td>-</td>\n",
       "      <td>High</td>\n",
       "      <td>Low</td>\n",
       "      <td>True</td>\n",
       "      <td>True</td>\n",
       "      <td>0.882</td>\n",
       "      <td>29.0</td>\n",
       "      <td>two-sided</td>\n",
       "      <td>0.385176</td>\n",
       "      <td>0.278</td>\n",
       "      <td>0.068</td>\n",
       "    </tr>\n",
       "    <tr>\n",
       "      <th>1</th>\n",
       "      <td>Valence</td>\n",
       "      <td>-</td>\n",
       "      <td>High</td>\n",
       "      <td>Low</td>\n",
       "      <td>True</td>\n",
       "      <td>True</td>\n",
       "      <td>3.870</td>\n",
       "      <td>29.0</td>\n",
       "      <td>two-sided</td>\n",
       "      <td>0.000569</td>\n",
       "      <td>54.614</td>\n",
       "      <td>0.374</td>\n",
       "    </tr>\n",
       "    <tr>\n",
       "      <th>2</th>\n",
       "      <td>Arousal * Valence</td>\n",
       "      <td>High</td>\n",
       "      <td>High</td>\n",
       "      <td>Low</td>\n",
       "      <td>True</td>\n",
       "      <td>True</td>\n",
       "      <td>2.380</td>\n",
       "      <td>29.0</td>\n",
       "      <td>two-sided</td>\n",
       "      <td>0.024126</td>\n",
       "      <td>2.158</td>\n",
       "      <td>0.257</td>\n",
       "    </tr>\n",
       "    <tr>\n",
       "      <th>3</th>\n",
       "      <td>Arousal * Valence</td>\n",
       "      <td>Low</td>\n",
       "      <td>High</td>\n",
       "      <td>Low</td>\n",
       "      <td>True</td>\n",
       "      <td>True</td>\n",
       "      <td>4.039</td>\n",
       "      <td>29.0</td>\n",
       "      <td>two-sided</td>\n",
       "      <td>0.000360</td>\n",
       "      <td>82.165</td>\n",
       "      <td>0.464</td>\n",
       "    </tr>\n",
       "  </tbody>\n",
       "</table>\n",
       "</div>"
      ],
      "text/plain": [
       "            Contrast Arousal     A    B Paired  Parametric      T   dof  \\\n",
       "0            Arousal       -  High  Low   True        True  0.882  29.0   \n",
       "1            Valence       -  High  Low   True        True  3.870  29.0   \n",
       "2  Arousal * Valence    High  High  Low   True        True  2.380  29.0   \n",
       "3  Arousal * Valence     Low  High  Low   True        True  4.039  29.0   \n",
       "\n",
       "        Tail     p-unc    BF10  cohen  \n",
       "0  two-sided  0.385176   0.278  0.068  \n",
       "1  two-sided  0.000569  54.614  0.374  \n",
       "2  two-sided  0.024126   2.158  0.257  \n",
       "3  two-sided  0.000360  82.165  0.464  "
      ]
     },
     "execution_count": 22,
     "metadata": {},
     "output_type": "execute_result"
    }
   ],
   "source": [
    "pg.pairwise_ttests(data=final_df, subject='Subject', within=['Arousal', 'Valence'], dv='Confidence', effsize='cohen')"
   ]
  },
  {
   "cell_type": "markdown",
   "metadata": {},
   "source": [
    "# D prime"
   ]
  },
  {
   "cell_type": "code",
   "execution_count": 23,
   "metadata": {},
   "outputs": [
    {
     "data": {
      "text/plain": [
       "<matplotlib.legend.Legend at 0x14718a0adc8>"
      ]
     },
     "execution_count": 23,
     "metadata": {},
     "output_type": "execute_result"
    },
    {
     "data": {
      "image/png": "[encoded data removed]",
      "text/plain": [
       "<Figure size 360x360 with 1 Axes>"
      ]
     },
     "metadata": {},
     "output_type": "display_data"
    }
   ],
   "source": [
    "sns.set_context('paper')\n",
    "plt.figure(figsize=(5, 5))\n",
    "sns.stripplot(data=final_df, x='Arousal', y='dPrime', hue='Valence',\n",
    "              palette=['firebrick', 'steelblue'], linewidth=1, dodge=True, alpha=.6)\n",
    "sns.pointplot(data=final_df, x='Arousal', y='dPrime', hue='Valence',\n",
    "              palette=['firebrick', 'steelblue'], dodge=True, ci=68)\n",
    "\n",
    "plt.title('d')\n",
    "plt.ylabel('d')\n",
    "sns.despine(trim=10)\n",
    "plt.legend()"
   ]
  },
  {
   "cell_type": "code",
   "execution_count": 24,
   "metadata": {},
   "outputs": [
    {
     "data": {
      "text/html": [
       "<div>\n",
       "<style scoped>\n",
       "    .dataframe tbody tr th:only-of-type {\n",
       "        vertical-align: middle;\n",
       "    }\n",
       "\n",
       "    .dataframe tbody tr th {\n",
       "        vertical-align: top;\n",
       "    }\n",
       "\n",
       "    .dataframe thead th {\n",
       "        text-align: right;\n",
       "    }\n",
       "</style>\n",
       "<table border=\"1\" class=\"dataframe\">\n",
       "  <thead>\n",
       "    <tr style=\"text-align: right;\">\n",
       "      <th></th>\n",
       "      <th>Source</th>\n",
       "      <th>SS</th>\n",
       "      <th>ddof1</th>\n",
       "      <th>ddof2</th>\n",
       "      <th>MS</th>\n",
       "      <th>F</th>\n",
       "      <th>p-unc</th>\n",
       "      <th>p-GG-corr</th>\n",
       "      <th>np2</th>\n",
       "      <th>eps</th>\n",
       "    </tr>\n",
       "  </thead>\n",
       "  <tbody>\n",
       "    <tr>\n",
       "      <th>0</th>\n",
       "      <td>Valence</td>\n",
       "      <td>0.577</td>\n",
       "      <td>1</td>\n",
       "      <td>29</td>\n",
       "      <td>0.577</td>\n",
       "      <td>11.344</td>\n",
       "      <td>0.002152</td>\n",
       "      <td>0.002152</td>\n",
       "      <td>0.281</td>\n",
       "      <td>1.0</td>\n",
       "    </tr>\n",
       "    <tr>\n",
       "      <th>1</th>\n",
       "      <td>Arousal</td>\n",
       "      <td>0.006</td>\n",
       "      <td>1</td>\n",
       "      <td>29</td>\n",
       "      <td>0.006</td>\n",
       "      <td>0.099</td>\n",
       "      <td>0.755570</td>\n",
       "      <td>0.755570</td>\n",
       "      <td>0.003</td>\n",
       "      <td>1.0</td>\n",
       "    </tr>\n",
       "    <tr>\n",
       "      <th>2</th>\n",
       "      <td>Valence * Arousal</td>\n",
       "      <td>0.353</td>\n",
       "      <td>1</td>\n",
       "      <td>29</td>\n",
       "      <td>0.353</td>\n",
       "      <td>7.343</td>\n",
       "      <td>0.011187</td>\n",
       "      <td>0.011187</td>\n",
       "      <td>0.202</td>\n",
       "      <td>1.0</td>\n",
       "    </tr>\n",
       "  </tbody>\n",
       "</table>\n",
       "</div>"
      ],
      "text/plain": [
       "              Source     SS  ddof1  ddof2     MS       F     p-unc  p-GG-corr  \\\n",
       "0            Valence  0.577      1     29  0.577  11.344  0.002152   0.002152   \n",
       "1            Arousal  0.006      1     29  0.006   0.099  0.755570   0.755570   \n",
       "2  Valence * Arousal  0.353      1     29  0.353   7.343  0.011187   0.011187   \n",
       "\n",
       "     np2  eps  \n",
       "0  0.281  1.0  \n",
       "1  0.003  1.0  \n",
       "2  0.202  1.0  "
      ]
     },
     "execution_count": 24,
     "metadata": {},
     "output_type": "execute_result"
    }
   ],
   "source": [
    "pg.rm_anova(data=final_df, subject='Subject', within=['Valence', 'Arousal'], dv='dPrime')"
   ]
  },
  {
   "cell_type": "code",
   "execution_count": 25,
   "metadata": {},
   "outputs": [
    {
     "data": {
      "text/html": [
       "<div>\n",
       "<style scoped>\n",
       "    .dataframe tbody tr th:only-of-type {\n",
       "        vertical-align: middle;\n",
       "    }\n",
       "\n",
       "    .dataframe tbody tr th {\n",
       "        vertical-align: top;\n",
       "    }\n",
       "\n",
       "    .dataframe thead th {\n",
       "        text-align: right;\n",
       "    }\n",
       "</style>\n",
       "<table border=\"1\" class=\"dataframe\">\n",
       "  <thead>\n",
       "    <tr style=\"text-align: right;\">\n",
       "      <th></th>\n",
       "      <th>Contrast</th>\n",
       "      <th>Arousal</th>\n",
       "      <th>A</th>\n",
       "      <th>B</th>\n",
       "      <th>Paired</th>\n",
       "      <th>Parametric</th>\n",
       "      <th>T</th>\n",
       "      <th>dof</th>\n",
       "      <th>Tail</th>\n",
       "      <th>p-unc</th>\n",
       "      <th>BF10</th>\n",
       "      <th>cohen</th>\n",
       "    </tr>\n",
       "  </thead>\n",
       "  <tbody>\n",
       "    <tr>\n",
       "      <th>0</th>\n",
       "      <td>Arousal</td>\n",
       "      <td>-</td>\n",
       "      <td>High</td>\n",
       "      <td>Low</td>\n",
       "      <td>True</td>\n",
       "      <td>True</td>\n",
       "      <td>-0.314</td>\n",
       "      <td>29.0</td>\n",
       "      <td>two-sided</td>\n",
       "      <td>0.755570</td>\n",
       "      <td>0.204</td>\n",
       "      <td>-0.054</td>\n",
       "    </tr>\n",
       "    <tr>\n",
       "      <th>1</th>\n",
       "      <td>Valence</td>\n",
       "      <td>-</td>\n",
       "      <td>High</td>\n",
       "      <td>Low</td>\n",
       "      <td>True</td>\n",
       "      <td>True</td>\n",
       "      <td>3.368</td>\n",
       "      <td>29.0</td>\n",
       "      <td>two-sided</td>\n",
       "      <td>0.002152</td>\n",
       "      <td>16.901</td>\n",
       "      <td>0.559</td>\n",
       "    </tr>\n",
       "    <tr>\n",
       "      <th>2</th>\n",
       "      <td>Arousal * Valence</td>\n",
       "      <td>High</td>\n",
       "      <td>High</td>\n",
       "      <td>Low</td>\n",
       "      <td>True</td>\n",
       "      <td>True</td>\n",
       "      <td>0.523</td>\n",
       "      <td>29.0</td>\n",
       "      <td>two-sided</td>\n",
       "      <td>0.605199</td>\n",
       "      <td>0.221</td>\n",
       "      <td>0.101</td>\n",
       "    </tr>\n",
       "    <tr>\n",
       "      <th>3</th>\n",
       "      <td>Arousal * Valence</td>\n",
       "      <td>Low</td>\n",
       "      <td>High</td>\n",
       "      <td>Low</td>\n",
       "      <td>True</td>\n",
       "      <td>True</td>\n",
       "      <td>4.331</td>\n",
       "      <td>29.0</td>\n",
       "      <td>two-sided</td>\n",
       "      <td>0.000162</td>\n",
       "      <td>168.153</td>\n",
       "      <td>0.839</td>\n",
       "    </tr>\n",
       "  </tbody>\n",
       "</table>\n",
       "</div>"
      ],
      "text/plain": [
       "            Contrast Arousal     A    B Paired  Parametric      T   dof  \\\n",
       "0            Arousal       -  High  Low   True        True -0.314  29.0   \n",
       "1            Valence       -  High  Low   True        True  3.368  29.0   \n",
       "2  Arousal * Valence    High  High  Low   True        True  0.523  29.0   \n",
       "3  Arousal * Valence     Low  High  Low   True        True  4.331  29.0   \n",
       "\n",
       "        Tail     p-unc     BF10  cohen  \n",
       "0  two-sided  0.755570    0.204 -0.054  \n",
       "1  two-sided  0.002152   16.901  0.559  \n",
       "2  two-sided  0.605199    0.221  0.101  \n",
       "3  two-sided  0.000162  168.153  0.839  "
      ]
     },
     "execution_count": 25,
     "metadata": {},
     "output_type": "execute_result"
    }
   ],
   "source": [
    "pg.pairwise_ttests(data=final_df, subject='Subject', within=['Arousal', 'Valence'], dv='dPrime', effsize='cohen')"
   ]
  },
  {
   "cell_type": "markdown",
   "metadata": {},
   "source": [
    "# Meta-d'"
   ]
  },
  {
   "cell_type": "code",
   "execution_count": 26,
   "metadata": {},
   "outputs": [
    {
     "data": {
      "text/plain": [
       "<matplotlib.legend.Legend at 0x14719979848>"
      ]
     },
     "execution_count": 26,
     "metadata": {},
     "output_type": "execute_result"
    },
    {
     "data": {
      "image/png": "[encoded data removed]",
      "text/plain": [
       "<Figure size 360x360 with 1 Axes>"
      ]
     },
     "metadata": {},
     "output_type": "display_data"
    }
   ],
   "source": [
    "sns.set_context('paper')\n",
    "plt.figure(figsize=(5, 5))\n",
    "sns.stripplot(data=metadprime_df, x='Arousal', y='MetadPrime', hue='Valence',\n",
    "               palette=['firebrick', 'steelblue'], linewidth=1, dodge=True, alpha=.6)\n",
    "sns.pointplot(data=metadprime_df, x='Arousal', y='MetadPrime', hue='Valence',\n",
    "              palette=['firebrick', 'steelblue'], dodge=True, ci=68)\n",
    "plt.title('Meta-d')\n",
    "plt.ylabel('Meta-d')\n",
    "sns.despine(trim=10)\n",
    "plt.legend()"
   ]
  },
  {
   "cell_type": "code",
   "execution_count": 27,
   "metadata": {},
   "outputs": [
    {
     "data": {
      "text/html": [
       "<div>\n",
       "<style scoped>\n",
       "    .dataframe tbody tr th:only-of-type {\n",
       "        vertical-align: middle;\n",
       "    }\n",
       "\n",
       "    .dataframe tbody tr th {\n",
       "        vertical-align: top;\n",
       "    }\n",
       "\n",
       "    .dataframe thead th {\n",
       "        text-align: right;\n",
       "    }\n",
       "</style>\n",
       "<table border=\"1\" class=\"dataframe\">\n",
       "  <thead>\n",
       "    <tr style=\"text-align: right;\">\n",
       "      <th></th>\n",
       "      <th>Source</th>\n",
       "      <th>SS</th>\n",
       "      <th>ddof1</th>\n",
       "      <th>ddof2</th>\n",
       "      <th>MS</th>\n",
       "      <th>F</th>\n",
       "      <th>p-unc</th>\n",
       "      <th>p-GG-corr</th>\n",
       "      <th>np2</th>\n",
       "      <th>eps</th>\n",
       "    </tr>\n",
       "  </thead>\n",
       "  <tbody>\n",
       "    <tr>\n",
       "      <th>0</th>\n",
       "      <td>Valence</td>\n",
       "      <td>1.447</td>\n",
       "      <td>1</td>\n",
       "      <td>34</td>\n",
       "      <td>1.447</td>\n",
       "      <td>12.442</td>\n",
       "      <td>0.001225</td>\n",
       "      <td>0.001225</td>\n",
       "      <td>0.268</td>\n",
       "      <td>1.0</td>\n",
       "    </tr>\n",
       "    <tr>\n",
       "      <th>1</th>\n",
       "      <td>Arousal</td>\n",
       "      <td>0.111</td>\n",
       "      <td>1</td>\n",
       "      <td>34</td>\n",
       "      <td>0.111</td>\n",
       "      <td>1.723</td>\n",
       "      <td>0.198144</td>\n",
       "      <td>0.198144</td>\n",
       "      <td>0.048</td>\n",
       "      <td>1.0</td>\n",
       "    </tr>\n",
       "    <tr>\n",
       "      <th>2</th>\n",
       "      <td>Valence * Arousal</td>\n",
       "      <td>0.039</td>\n",
       "      <td>1</td>\n",
       "      <td>34</td>\n",
       "      <td>0.039</td>\n",
       "      <td>0.419</td>\n",
       "      <td>0.521763</td>\n",
       "      <td>0.521763</td>\n",
       "      <td>0.012</td>\n",
       "      <td>1.0</td>\n",
       "    </tr>\n",
       "  </tbody>\n",
       "</table>\n",
       "</div>"
      ],
      "text/plain": [
       "              Source     SS  ddof1  ddof2     MS       F     p-unc  p-GG-corr  \\\n",
       "0            Valence  1.447      1     34  1.447  12.442  0.001225   0.001225   \n",
       "1            Arousal  0.111      1     34  0.111   1.723  0.198144   0.198144   \n",
       "2  Valence * Arousal  0.039      1     34  0.039   0.419  0.521763   0.521763   \n",
       "\n",
       "     np2  eps  \n",
       "0  0.268  1.0  \n",
       "1  0.048  1.0  \n",
       "2  0.012  1.0  "
      ]
     },
     "execution_count": 27,
     "metadata": {},
     "output_type": "execute_result"
    }
   ],
   "source": [
    "pg.rm_anova(data=metadprime_df, subject='Subject', within=['Valence', 'Arousal'], dv='MetadPrime')"
   ]
  },
  {
   "cell_type": "code",
   "execution_count": 28,
   "metadata": {},
   "outputs": [
    {
     "data": {
      "text/html": [
       "<div>\n",
       "<style scoped>\n",
       "    .dataframe tbody tr th:only-of-type {\n",
       "        vertical-align: middle;\n",
       "    }\n",
       "\n",
       "    .dataframe tbody tr th {\n",
       "        vertical-align: top;\n",
       "    }\n",
       "\n",
       "    .dataframe thead th {\n",
       "        text-align: right;\n",
       "    }\n",
       "</style>\n",
       "<table border=\"1\" class=\"dataframe\">\n",
       "  <thead>\n",
       "    <tr style=\"text-align: right;\">\n",
       "      <th></th>\n",
       "      <th>Contrast</th>\n",
       "      <th>Arousal</th>\n",
       "      <th>A</th>\n",
       "      <th>B</th>\n",
       "      <th>Paired</th>\n",
       "      <th>Parametric</th>\n",
       "      <th>T</th>\n",
       "      <th>dof</th>\n",
       "      <th>Tail</th>\n",
       "      <th>p-unc</th>\n",
       "      <th>BF10</th>\n",
       "      <th>cohen</th>\n",
       "    </tr>\n",
       "  </thead>\n",
       "  <tbody>\n",
       "    <tr>\n",
       "      <th>0</th>\n",
       "      <td>Arousal</td>\n",
       "      <td>-</td>\n",
       "      <td>High</td>\n",
       "      <td>Low</td>\n",
       "      <td>True</td>\n",
       "      <td>True</td>\n",
       "      <td>-1.312</td>\n",
       "      <td>34.0</td>\n",
       "      <td>two-sided</td>\n",
       "      <td>0.198144</td>\n",
       "      <td>0.398</td>\n",
       "      <td>-0.128</td>\n",
       "    </tr>\n",
       "    <tr>\n",
       "      <th>1</th>\n",
       "      <td>Valence</td>\n",
       "      <td>-</td>\n",
       "      <td>High</td>\n",
       "      <td>Low</td>\n",
       "      <td>True</td>\n",
       "      <td>True</td>\n",
       "      <td>3.527</td>\n",
       "      <td>34.0</td>\n",
       "      <td>two-sided</td>\n",
       "      <td>0.001225</td>\n",
       "      <td>26.519</td>\n",
       "      <td>0.447</td>\n",
       "    </tr>\n",
       "    <tr>\n",
       "      <th>2</th>\n",
       "      <td>Arousal * Valence</td>\n",
       "      <td>High</td>\n",
       "      <td>High</td>\n",
       "      <td>Low</td>\n",
       "      <td>True</td>\n",
       "      <td>True</td>\n",
       "      <td>2.431</td>\n",
       "      <td>34.0</td>\n",
       "      <td>two-sided</td>\n",
       "      <td>0.020480</td>\n",
       "      <td>2.337</td>\n",
       "      <td>0.347</td>\n",
       "    </tr>\n",
       "    <tr>\n",
       "      <th>3</th>\n",
       "      <td>Arousal * Valence</td>\n",
       "      <td>Low</td>\n",
       "      <td>High</td>\n",
       "      <td>Low</td>\n",
       "      <td>True</td>\n",
       "      <td>True</td>\n",
       "      <td>2.810</td>\n",
       "      <td>34.0</td>\n",
       "      <td>two-sided</td>\n",
       "      <td>0.008165</td>\n",
       "      <td>5.08</td>\n",
       "      <td>0.473</td>\n",
       "    </tr>\n",
       "  </tbody>\n",
       "</table>\n",
       "</div>"
      ],
      "text/plain": [
       "            Contrast Arousal     A    B Paired  Parametric      T   dof  \\\n",
       "0            Arousal       -  High  Low   True        True -1.312  34.0   \n",
       "1            Valence       -  High  Low   True        True  3.527  34.0   \n",
       "2  Arousal * Valence    High  High  Low   True        True  2.431  34.0   \n",
       "3  Arousal * Valence     Low  High  Low   True        True  2.810  34.0   \n",
       "\n",
       "        Tail     p-unc    BF10  cohen  \n",
       "0  two-sided  0.198144   0.398 -0.128  \n",
       "1  two-sided  0.001225  26.519  0.447  \n",
       "2  two-sided  0.020480   2.337  0.347  \n",
       "3  two-sided  0.008165    5.08  0.473  "
      ]
     },
     "execution_count": 28,
     "metadata": {},
     "output_type": "execute_result"
    }
   ],
   "source": [
    "pg.pairwise_ttests(data=metadprime_df, subject='Subject', within=['Arousal', 'Valence'], dv='MetadPrime', effsize='cohen')"
   ]
  },
  {
   "cell_type": "markdown",
   "metadata": {},
   "source": [
    "# M ratio"
   ]
  },
  {
   "cell_type": "code",
   "execution_count": 29,
   "metadata": {},
   "outputs": [
    {
     "data": {
      "text/plain": [
       "<matplotlib.legend.Legend at 0x14719aed388>"
      ]
     },
     "execution_count": 29,
     "metadata": {},
     "output_type": "execute_result"
    },
    {
     "data": {
      "image/png": "[encoded data removed]",
      "text/plain": [
       "<Figure size 360x360 with 1 Axes>"
      ]
     },
     "metadata": {},
     "output_type": "display_data"
    }
   ],
   "source": [
    "sns.set_context('paper')\n",
    "plt.figure(figsize=(5, 5))\n",
    "sns.stripplot(data=final_df, x='Arousal', y='Mratio', hue='Valence',\n",
    "               palette=['firebrick', 'steelblue'], linewidth=1, dodge=True, alpha=.6)\n",
    "sns.pointplot(data=final_df, x='Arousal', y='Mratio', hue='Valence',\n",
    "              palette=['firebrick', 'steelblue'], dodge=True, ci=68)\n",
    "plt.title('Meta-d/d')\n",
    "plt.ylabel('Meta-d/d')\n",
    "sns.despine(trim=10)\n",
    "plt.legend()"
   ]
  },
  {
   "cell_type": "code",
   "execution_count": 30,
   "metadata": {},
   "outputs": [
    {
     "data": {
      "text/html": [
       "<div>\n",
       "<style scoped>\n",
       "    .dataframe tbody tr th:only-of-type {\n",
       "        vertical-align: middle;\n",
       "    }\n",
       "\n",
       "    .dataframe tbody tr th {\n",
       "        vertical-align: top;\n",
       "    }\n",
       "\n",
       "    .dataframe thead th {\n",
       "        text-align: right;\n",
       "    }\n",
       "</style>\n",
       "<table border=\"1\" class=\"dataframe\">\n",
       "  <thead>\n",
       "    <tr style=\"text-align: right;\">\n",
       "      <th></th>\n",
       "      <th>Source</th>\n",
       "      <th>SS</th>\n",
       "      <th>ddof1</th>\n",
       "      <th>ddof2</th>\n",
       "      <th>MS</th>\n",
       "      <th>F</th>\n",
       "      <th>p-unc</th>\n",
       "      <th>p-GG-corr</th>\n",
       "      <th>np2</th>\n",
       "      <th>eps</th>\n",
       "    </tr>\n",
       "  </thead>\n",
       "  <tbody>\n",
       "    <tr>\n",
       "      <th>0</th>\n",
       "      <td>Valence</td>\n",
       "      <td>0.049</td>\n",
       "      <td>1</td>\n",
       "      <td>29</td>\n",
       "      <td>0.049</td>\n",
       "      <td>0.504</td>\n",
       "      <td>0.483238</td>\n",
       "      <td>0.483238</td>\n",
       "      <td>0.017</td>\n",
       "      <td>1.0</td>\n",
       "    </tr>\n",
       "    <tr>\n",
       "      <th>1</th>\n",
       "      <td>Arousal</td>\n",
       "      <td>0.029</td>\n",
       "      <td>1</td>\n",
       "      <td>29</td>\n",
       "      <td>0.029</td>\n",
       "      <td>0.251</td>\n",
       "      <td>0.619845</td>\n",
       "      <td>0.619845</td>\n",
       "      <td>0.009</td>\n",
       "      <td>1.0</td>\n",
       "    </tr>\n",
       "    <tr>\n",
       "      <th>2</th>\n",
       "      <td>Valence * Arousal</td>\n",
       "      <td>0.229</td>\n",
       "      <td>1</td>\n",
       "      <td>29</td>\n",
       "      <td>0.229</td>\n",
       "      <td>1.983</td>\n",
       "      <td>0.169687</td>\n",
       "      <td>0.169687</td>\n",
       "      <td>0.064</td>\n",
       "      <td>1.0</td>\n",
       "    </tr>\n",
       "  </tbody>\n",
       "</table>\n",
       "</div>"
      ],
      "text/plain": [
       "              Source     SS  ddof1  ddof2     MS      F     p-unc  p-GG-corr  \\\n",
       "0            Valence  0.049      1     29  0.049  0.504  0.483238   0.483238   \n",
       "1            Arousal  0.029      1     29  0.029  0.251  0.619845   0.619845   \n",
       "2  Valence * Arousal  0.229      1     29  0.229  1.983  0.169687   0.169687   \n",
       "\n",
       "     np2  eps  \n",
       "0  0.017  1.0  \n",
       "1  0.009  1.0  \n",
       "2  0.064  1.0  "
      ]
     },
     "execution_count": 30,
     "metadata": {},
     "output_type": "execute_result"
    }
   ],
   "source": [
    "pg.rm_anova(data=final_df, subject='Subject', within=['Valence', 'Arousal'], dv='Mratio')"
   ]
  },
  {
   "cell_type": "code",
   "execution_count": 31,
   "metadata": {},
   "outputs": [
    {
     "data": {
      "text/html": [
       "<div>\n",
       "<style scoped>\n",
       "    .dataframe tbody tr th:only-of-type {\n",
       "        vertical-align: middle;\n",
       "    }\n",
       "\n",
       "    .dataframe tbody tr th {\n",
       "        vertical-align: top;\n",
       "    }\n",
       "\n",
       "    .dataframe thead th {\n",
       "        text-align: right;\n",
       "    }\n",
       "</style>\n",
       "<table border=\"1\" class=\"dataframe\">\n",
       "  <thead>\n",
       "    <tr style=\"text-align: right;\">\n",
       "      <th></th>\n",
       "      <th>Contrast</th>\n",
       "      <th>Arousal</th>\n",
       "      <th>A</th>\n",
       "      <th>B</th>\n",
       "      <th>Paired</th>\n",
       "      <th>Parametric</th>\n",
       "      <th>T</th>\n",
       "      <th>dof</th>\n",
       "      <th>Tail</th>\n",
       "      <th>p-unc</th>\n",
       "      <th>BF10</th>\n",
       "      <th>cohen</th>\n",
       "    </tr>\n",
       "  </thead>\n",
       "  <tbody>\n",
       "    <tr>\n",
       "      <th>0</th>\n",
       "      <td>Arousal</td>\n",
       "      <td>-</td>\n",
       "      <td>High</td>\n",
       "      <td>Low</td>\n",
       "      <td>True</td>\n",
       "      <td>True</td>\n",
       "      <td>-0.501</td>\n",
       "      <td>29.0</td>\n",
       "      <td>two-sided</td>\n",
       "      <td>0.619845</td>\n",
       "      <td>0.218</td>\n",
       "      <td>-0.128</td>\n",
       "    </tr>\n",
       "    <tr>\n",
       "      <th>1</th>\n",
       "      <td>Valence</td>\n",
       "      <td>-</td>\n",
       "      <td>High</td>\n",
       "      <td>Low</td>\n",
       "      <td>True</td>\n",
       "      <td>True</td>\n",
       "      <td>0.710</td>\n",
       "      <td>29.0</td>\n",
       "      <td>two-sided</td>\n",
       "      <td>0.483238</td>\n",
       "      <td>0.245</td>\n",
       "      <td>0.169</td>\n",
       "    </tr>\n",
       "    <tr>\n",
       "      <th>2</th>\n",
       "      <td>Arousal * Valence</td>\n",
       "      <td>High</td>\n",
       "      <td>High</td>\n",
       "      <td>Low</td>\n",
       "      <td>True</td>\n",
       "      <td>True</td>\n",
       "      <td>1.572</td>\n",
       "      <td>29.0</td>\n",
       "      <td>two-sided</td>\n",
       "      <td>0.126864</td>\n",
       "      <td>0.585</td>\n",
       "      <td>0.351</td>\n",
       "    </tr>\n",
       "    <tr>\n",
       "      <th>3</th>\n",
       "      <td>Arousal * Valence</td>\n",
       "      <td>Low</td>\n",
       "      <td>High</td>\n",
       "      <td>Low</td>\n",
       "      <td>True</td>\n",
       "      <td>True</td>\n",
       "      <td>-0.544</td>\n",
       "      <td>29.0</td>\n",
       "      <td>two-sided</td>\n",
       "      <td>0.590385</td>\n",
       "      <td>0.223</td>\n",
       "      <td>-0.152</td>\n",
       "    </tr>\n",
       "  </tbody>\n",
       "</table>\n",
       "</div>"
      ],
      "text/plain": [
       "            Contrast Arousal     A    B Paired  Parametric      T   dof  \\\n",
       "0            Arousal       -  High  Low   True        True -0.501  29.0   \n",
       "1            Valence       -  High  Low   True        True  0.710  29.0   \n",
       "2  Arousal * Valence    High  High  Low   True        True  1.572  29.0   \n",
       "3  Arousal * Valence     Low  High  Low   True        True -0.544  29.0   \n",
       "\n",
       "        Tail     p-unc   BF10  cohen  \n",
       "0  two-sided  0.619845  0.218 -0.128  \n",
       "1  two-sided  0.483238  0.245  0.169  \n",
       "2  two-sided  0.126864  0.585  0.351  \n",
       "3  two-sided  0.590385  0.223 -0.152  "
      ]
     },
     "execution_count": 31,
     "metadata": {},
     "output_type": "execute_result"
    },
    {
     "name": "stderr",
     "output_type": "stream",
     "text": [
      "C:\\ProgramData\\Anaconda3\\lib\\site-packages\\outdated\\utils.py:18: OutdatedPackageWarning: The package pingouin is out of date. Your version is 0.3.3, the latest is 0.3.4.\n",
      "Set the environment variable OUTDATED_IGNORE=1 to disable these warnings.\n",
      "  **kwargs\n"
     ]
    }
   ],
   "source": [
    "pg.pairwise_ttests(data=final_df, subject='Subject', within=['Arousal', 'Valence'], dv='Mratio', effsize='cohen')"
   ]
  }
 ],
 "metadata": {
  "kernelspec": {
   "display_name": "Python 3",
   "language": "python",
   "name": "python3"
  },
  "language_info": {
   "codemirror_mode": {
    "name": "ipython",
    "version": 3
   },
   "file_extension": ".py",
   "mimetype": "text/x-python",
   "name": "python",
   "nbconvert_exporter": "python",
   "pygments_lexer": "ipython3",
   "version": "3.7.6"
  }
 },
 "nbformat": 4,
 "nbformat_minor": 4
}
