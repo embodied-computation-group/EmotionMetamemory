{
 "cells": [
  {
   "cell_type": "markdown",
   "metadata": {},
   "source": [
    "Author: Nicolas Legrand <nicolas.legrand@cfin.au.dk>"
   ]
  },
  {
   "cell_type": "code",
   "execution_count": 46,
   "metadata": {},
   "outputs": [],
   "source": [
    "%%capture\n",
    "! pip install git+https://github.com/LegrandNico/metadPy.git"
   ]
  },
  {
   "cell_type": "code",
   "execution_count": 47,
   "metadata": {},
   "outputs": [],
   "source": [
    "import os\n",
    "import pandas as pd\n",
    "import pingouin as pg\n",
    "import numpy as np\n",
    "import seaborn as sns\n",
    "import matplotlib.pyplot as plt\n",
    "from metadPy.utils import trials2counts\n",
    "from metadPy.sdt import dprime"
   ]
  },
  {
   "cell_type": "markdown",
   "metadata": {},
   "source": [
    "# Preprocessing"
   ]
  },
  {
   "cell_type": "code",
   "execution_count": 51,
   "metadata": {},
   "outputs": [],
   "source": [
    "parent = os.path.join(os.getcwd(), os.pardir)\n",
    "path = os.path.join(os.path.abspath(parent), 'Data', 'Raw')\n",
    "subjects = [f for f in os.listdir(path) if len(f) == 5]"
   ]
  },
  {
   "cell_type": "markdown",
   "metadata": {},
   "source": [
    "Extract confidence, response time, d prime and average accuracy and save in the `final_df` variable.\n",
    "\n",
    "Extrac nR_S1 and nR_S2 vector for hierarchical bayesian estimation and save in the `metacog.txt` file.\n",
    "\n",
    "During etraction, the following rules are applied to remove outliers, either in the trial or participant level:\n",
    "\n",
    "* Trials with RTs faster than 100ms.\n",
    "\n",
    "* Trial with RTs greater than 3 standard deviations than the median RT value."
   ]
  },
  {
   "cell_type": "code",
   "execution_count": 52,
   "metadata": {},
   "outputs": [],
   "source": [
    "final_df, metacog_df = pd.DataFrame([]), pd.DataFrame([])\n",
    "\n",
    "for nSub in subjects:\n",
    "\n",
    "    # Find files name\n",
    "    for file in os.listdir(os.path.join(path, nSub)):\n",
    "        if file.endswith(\".txt\") & file.startswith('Subject') & ('Block' not in file):\n",
    "            df = pd.read_csv(os.path.join(path, nSub, file), na_values=['Nan'])\n",
    "\n",
    "    # Start loop\n",
    "    for val in ['High', 'Low']:\n",
    "\n",
    "        for aro in ['High', 'Low']:\n",
    "            \n",
    "            # Filter for subject and conditions\n",
    "            this_df = df.copy()[(df.Arousal == aro) & (df.Valence == val)]\n",
    "            \n",
    "            # Remove NaN values\n",
    "            this_df = this_df[~((this_df.RT.isnull() | this_df.Confidence.isnull()))]\n",
    "            \n",
    "            # Drop fast RT\n",
    "            this_df = this_df[(this_df.RT > .1)]\n",
    "            \n",
    "            # Reject slow trials median + 3 std\n",
    "            this_df = this_df[this_df.RT < (this_df.RT.median() + (3 * this_df.RT.std()))]\n",
    "            \n",
    "            # Check enough trials remain\n",
    "            if len(this_df)<50:\n",
    "                raise ValueError\n",
    "\n",
    "            #########\n",
    "            # Metrics\n",
    "            #########\n",
    "\n",
    "            # Response time\n",
    "            rt = this_df.RT.median()\n",
    "            \n",
    "            # Accuracy\n",
    "            acc = (this_df.KeyPressed == this_df.Expected).mean()\n",
    "            \n",
    "            # Confidence\n",
    "            conf = this_df.Confidence[~this_df.RT.isnull()].mean()\n",
    "            \n",
    "            # Extrac nR_S1 and nR_S2 vector and save separately\n",
    "            stimID = this_df.Expected == 'right'\n",
    "            responses = this_df.KeyPressed == 'right'\n",
    "            confidence = this_df.Confidence\n",
    "            nRatings = 7\n",
    "            nR_S1, nR_S2 = trials2counts(stimuli=stimID, responses=responses, confidence=confidence, nRatings=nRatings)\n",
    "\n",
    "            metacog_df = metacog_df.append(pd.DataFrame({'Subject': nSub,\n",
    "                           'Valence': val,\n",
    "                           'Arousal': aro,\n",
    "                           'nR_S1': nR_S1,\n",
    "                           'nR_S2': nR_S2,\n",
    "                           'bins': np.arange(0, 14)}), ignore_index=True)\n",
    "\n",
    "            final_df = final_df.append(pd.DataFrame({'Subject': [nSub],\n",
    "                                                     'Valence': [val],\n",
    "                                                     'Arousal': [aro],\n",
    "                                                     'Confidence': [conf],\n",
    "                                                     'RT': [rt],\n",
    "                                                     'Keep': [len(this_df)/150],\n",
    "                                                     'Accuracy': [acc]}), ignore_index=True)\n",
    "\n",
    "out_path = os.path.join(os.path.abspath(parent), 'Data', 'Preprocessed', 'metacog.txt')\n",
    "metacog_df.to_csv(out_path)"
   ]
  },
  {
   "cell_type": "markdown",
   "metadata": {},
   "source": [
    "Here, we use the `metad.R` to fit hierarchical bayesian estimation of meta d' following the method described in:\n",
    "\n",
    "    Fleming, S. M. (2017). HMeta-d: hierarchical Bayesian estimation of metacognitive efficiency from confidence ratings. *Neuroscience of Consciousness, 2017(1)*.\n",
    "\n",
    "This script will save the results in `metadprim.txt`."
   ]
  },
  {
   "cell_type": "code",
   "execution_count": 53,
   "metadata": {},
   "outputs": [],
   "source": [
    "# Merge to final_df\n",
    "metadprime_df = pd.read_csv(os.path.join(os.path.abspath(parent), 'Data', 'Preprocessed', 'metadprime.txt'), sep='\\t')\n",
    "metadprime_df.Subject = metadprime_df.Subject.astype(str)\n",
    "final_df = pd.merge(final_df, metadprime_df, on=['Subject', 'Valence', 'Arousal'])"
   ]
  },
  {
   "cell_type": "markdown",
   "metadata": {},
   "source": [
    "Check for the following criteria:\n",
    "\n",
    "* Participants with mean d' less than or equal to 0.\n",
    "\n",
    "* Participants with mean meta-d' less than or equal to 0."
   ]
  },
  {
   "cell_type": "code",
   "execution_count": 54,
   "metadata": {},
   "outputs": [],
   "source": [
    "assert ~(final_df.MetadPrime<=0).any()\n",
    "assert ~(final_df.dPrime<=0).any()"
   ]
  },
  {
   "cell_type": "markdown",
   "metadata": {},
   "source": [
    "* Participants whose values for d', confidence and response time on any condition are greater than 1.5 times the interquartile range."
   ]
  },
  {
   "cell_type": "code",
   "execution_count": 55,
   "metadata": {},
   "outputs": [
    {
     "name": "stdout",
     "output_type": "stream",
     "text": [
      "11119 - RT\n",
      "11138 - dPrime\n",
      "11124 - dPrime\n",
      "11131 - dPrime\n",
      "47617 - dPrime\n"
     ]
    }
   ],
   "source": [
    "reject = []\n",
    "for metric in ['RT', 'dPrime', 'Confidence']:\n",
    "    for val in ['High', 'Low']:\n",
    "\n",
    "        for aro in ['High', 'Low']:\n",
    "            \n",
    "            this_df = final_df.copy().groupby(['Subject', 'Valence', 'Arousal'], as_index=False).mean()\n",
    "            this_df = this_df[(this_df.Valence == val) & (this_df.Arousal == aro)]\n",
    "            \n",
    "            q1 = this_df[metric].quantile(.25)\n",
    "            q3 = this_df[metric].quantile(.75)\n",
    "\n",
    "            for sub in this_df.Subject[this_df[metric] > this_df[metric].quantile(.75) + ((q3 - q1) * 1.5)]:\n",
    "                print(sub + ' - ' + metric)\n",
    "                reject.append(sub)\n",
    "            for sub in this_df.Subject[this_df[metric] < this_df[metric].quantile(.25) - ((q3 - q1) * 1.5)]:\n",
    "                print(sub + ' - ' + metric)\n",
    "                reject.append(sub)"
   ]
  },
  {
   "cell_type": "code",
   "execution_count": 56,
   "metadata": {},
   "outputs": [],
   "source": [
    "# Create reject vector\n",
    "final_df['Reject'] = 0\n",
    "for sub in reject:\n",
    "    final_df.loc[final_df.Subject == sub, 'Reject'] = 1"
   ]
  },
  {
   "cell_type": "markdown",
   "metadata": {},
   "source": [
    "* Check for extrem values in Hit and False alarm rates (under 0.05 or greater than 0.95)."
   ]
  },
  {
   "cell_type": "code",
   "execution_count": 57,
   "metadata": {},
   "outputs": [],
   "source": [
    "assert ~(final_df.HR > 0.95).any()\n",
    "assert ~(final_df.FAR < 0.05).any()"
   ]
  },
  {
   "cell_type": "markdown",
   "metadata": {},
   "source": [
    "Reject outliers"
   ]
  },
  {
   "cell_type": "code",
   "execution_count": 58,
   "metadata": {},
   "outputs": [],
   "source": [
    "final_df = final_df[final_df.Reject!=1]"
   ]
  },
  {
   "cell_type": "markdown",
   "metadata": {},
   "source": [
    "Save dataframe"
   ]
  },
  {
   "cell_type": "code",
   "execution_count": 59,
   "metadata": {},
   "outputs": [],
   "source": [
    "final_df.to_csv(os.path.join(os.path.abspath(parent), 'Data', 'Preprocessed', 'Behaviour.txt'))"
   ]
  },
  {
   "cell_type": "markdown",
   "metadata": {},
   "source": [
    "Save as JASP format"
   ]
  },
  {
   "cell_type": "code",
   "execution_count": 60,
   "metadata": {},
   "outputs": [],
   "source": [
    "jasp_df = []\n",
    "for metric in ['RT', 'Criterion', 'Accuracy', 'Confidence', 'dPrime', 'MetadPrime', 'Mratio']:\n",
    "    this_df = final_df.copy().pivot_table(index='Subject', columns=['Valence', 'Arousal'], values=metric).reset_index()\n",
    "    cols = ['Subject']\n",
    "    cols.extend([''.join((metric + '_', col[1], '_Aro_', col[0], 'Val')) for col in this_df.columns[1:]])\n",
    "    this_df.columns = cols\n",
    "    jasp_df.append(this_df)\n",
    "jasp_df = pd.concat(jasp_df, axis=1)\n",
    "jasp_df = jasp_df.loc[:,~jasp_df.columns.duplicated()]\n",
    "jasp_df.to_csv(os.path.join(os.path.abspath(parent), 'Data', 'Preprocessed', 'JASP', 'behavior.txt'))"
   ]
  },
  {
   "cell_type": "markdown",
   "metadata": {},
   "source": [
    "The statistical analyses reported in the paper are carried out using JASP, based on the data frames saved in the previous step. Here, we provide code snippets for interactive visualization and testing directly inside Binder. Although the results may slightly differ due to the statistical software used, no major difference are observed."
   ]
  },
  {
   "cell_type": "markdown",
   "metadata": {},
   "source": [
    "# Results"
   ]
  },
  {
   "cell_type": "markdown",
   "metadata": {},
   "source": [
    "Compute % of drop."
   ]
  },
  {
   "cell_type": "code",
   "execution_count": 61,
   "metadata": {},
   "outputs": [
    {
     "data": {
      "text/plain": [
       "(3.494444444444444, 3.687104571105834)"
      ]
     },
     "execution_count": 61,
     "metadata": {},
     "output_type": "execute_result"
    }
   ],
   "source": [
    "((1 - final_df.Keep) * 100).mean(), ((1 - final_df.Keep) * 100).std()"
   ]
  },
  {
   "cell_type": "markdown",
   "metadata": {},
   "source": [
    "## Response time"
   ]
  },
  {
   "cell_type": "code",
   "execution_count": 62,
   "metadata": {},
   "outputs": [
    {
     "data": {
      "text/plain": [
       "<matplotlib.legend.Legend at 0x17607bfccc8>"
      ]
     },
     "execution_count": 62,
     "metadata": {},
     "output_type": "execute_result"
    },
    {
     "data": {
      "image/png": "[encoded data removed]",
      "text/plain": [
       "<Figure size 360x360 with 1 Axes>"
      ]
     },
     "metadata": {
      "needs_background": "light"
     },
     "output_type": "display_data"
    }
   ],
   "source": [
    "sns.set_context('paper')\n",
    "plt.figure(figsize=(5, 5))\n",
    "sns.stripplot(data=final_df, x='Arousal', y='RT', hue='Valence',\n",
    "              palette=['firebrick', 'steelblue'], linewidth=1, dodge=True, alpha=.6)\n",
    "sns.pointplot(data=final_df, x='Arousal', y='RT', hue='Valence',\n",
    "              palette=['firebrick', 'steelblue'], dodge=True, ci=68)\n",
    "plt.title('Response time')\n",
    "plt.ylabel('Response time (s)')\n",
    "sns.despine(trim=10)\n",
    "plt.legend()"
   ]
  },
  {
   "cell_type": "code",
   "execution_count": 63,
   "metadata": {},
   "outputs": [
    {
     "data": {
      "text/html": [
       "<div>\n",
       "<style scoped>\n",
       "    .dataframe tbody tr th:only-of-type {\n",
       "        vertical-align: middle;\n",
       "    }\n",
       "\n",
       "    .dataframe tbody tr th {\n",
       "        vertical-align: top;\n",
       "    }\n",
       "\n",
       "    .dataframe thead th {\n",
       "        text-align: right;\n",
       "    }\n",
       "</style>\n",
       "<table border=\"1\" class=\"dataframe\">\n",
       "  <thead>\n",
       "    <tr style=\"text-align: right;\">\n",
       "      <th></th>\n",
       "      <th>Source</th>\n",
       "      <th>SS</th>\n",
       "      <th>ddof1</th>\n",
       "      <th>ddof2</th>\n",
       "      <th>MS</th>\n",
       "      <th>F</th>\n",
       "      <th>p-unc</th>\n",
       "      <th>p-GG-corr</th>\n",
       "      <th>np2</th>\n",
       "      <th>eps</th>\n",
       "    </tr>\n",
       "  </thead>\n",
       "  <tbody>\n",
       "    <tr>\n",
       "      <th>0</th>\n",
       "      <td>Valence</td>\n",
       "      <td>0.033918</td>\n",
       "      <td>1</td>\n",
       "      <td>29</td>\n",
       "      <td>0.033918</td>\n",
       "      <td>5.547902</td>\n",
       "      <td>0.025480</td>\n",
       "      <td>0.025480</td>\n",
       "      <td>0.160586</td>\n",
       "      <td>1.0</td>\n",
       "    </tr>\n",
       "    <tr>\n",
       "      <th>1</th>\n",
       "      <td>Arousal</td>\n",
       "      <td>0.019615</td>\n",
       "      <td>1</td>\n",
       "      <td>29</td>\n",
       "      <td>0.019615</td>\n",
       "      <td>6.936505</td>\n",
       "      <td>0.013405</td>\n",
       "      <td>0.013405</td>\n",
       "      <td>0.193021</td>\n",
       "      <td>1.0</td>\n",
       "    </tr>\n",
       "    <tr>\n",
       "      <th>2</th>\n",
       "      <td>Valence * Arousal</td>\n",
       "      <td>0.030232</td>\n",
       "      <td>1</td>\n",
       "      <td>29</td>\n",
       "      <td>0.030232</td>\n",
       "      <td>7.558053</td>\n",
       "      <td>0.010175</td>\n",
       "      <td>0.010175</td>\n",
       "      <td>0.206741</td>\n",
       "      <td>1.0</td>\n",
       "    </tr>\n",
       "  </tbody>\n",
       "</table>\n",
       "</div>"
      ],
      "text/plain": [
       "              Source        SS  ddof1  ddof2        MS         F     p-unc  \\\n",
       "0            Valence  0.033918      1     29  0.033918  5.547902  0.025480   \n",
       "1            Arousal  0.019615      1     29  0.019615  6.936505  0.013405   \n",
       "2  Valence * Arousal  0.030232      1     29  0.030232  7.558053  0.010175   \n",
       "\n",
       "   p-GG-corr       np2  eps  \n",
       "0   0.025480  0.160586  1.0  \n",
       "1   0.013405  0.193021  1.0  \n",
       "2   0.010175  0.206741  1.0  "
      ]
     },
     "execution_count": 63,
     "metadata": {},
     "output_type": "execute_result"
    }
   ],
   "source": [
    "pg.rm_anova(data=final_df, subject='Subject', within=['Valence', 'Arousal'], dv='RT')"
   ]
  },
  {
   "cell_type": "code",
   "execution_count": 64,
   "metadata": {},
   "outputs": [
    {
     "data": {
      "text/html": [
       "<div>\n",
       "<style scoped>\n",
       "    .dataframe tbody tr th:only-of-type {\n",
       "        vertical-align: middle;\n",
       "    }\n",
       "\n",
       "    .dataframe tbody tr th {\n",
       "        vertical-align: top;\n",
       "    }\n",
       "\n",
       "    .dataframe thead th {\n",
       "        text-align: right;\n",
       "    }\n",
       "</style>\n",
       "<table border=\"1\" class=\"dataframe\">\n",
       "  <thead>\n",
       "    <tr style=\"text-align: right;\">\n",
       "      <th></th>\n",
       "      <th>Contrast</th>\n",
       "      <th>Arousal</th>\n",
       "      <th>A</th>\n",
       "      <th>B</th>\n",
       "      <th>Paired</th>\n",
       "      <th>Parametric</th>\n",
       "      <th>T</th>\n",
       "      <th>dof</th>\n",
       "      <th>Tail</th>\n",
       "      <th>p-unc</th>\n",
       "      <th>BF10</th>\n",
       "      <th>cohen</th>\n",
       "    </tr>\n",
       "  </thead>\n",
       "  <tbody>\n",
       "    <tr>\n",
       "      <th>0</th>\n",
       "      <td>Arousal</td>\n",
       "      <td>-</td>\n",
       "      <td>High</td>\n",
       "      <td>Low</td>\n",
       "      <td>True</td>\n",
       "      <td>True</td>\n",
       "      <td>2.633724</td>\n",
       "      <td>29.0</td>\n",
       "      <td>two-sided</td>\n",
       "      <td>0.013405</td>\n",
       "      <td>3.518</td>\n",
       "      <td>0.125914</td>\n",
       "    </tr>\n",
       "    <tr>\n",
       "      <th>1</th>\n",
       "      <td>Valence</td>\n",
       "      <td>-</td>\n",
       "      <td>High</td>\n",
       "      <td>Low</td>\n",
       "      <td>True</td>\n",
       "      <td>True</td>\n",
       "      <td>-2.355398</td>\n",
       "      <td>29.0</td>\n",
       "      <td>two-sided</td>\n",
       "      <td>0.025480</td>\n",
       "      <td>2.064</td>\n",
       "      <td>-0.163950</td>\n",
       "    </tr>\n",
       "    <tr>\n",
       "      <th>2</th>\n",
       "      <td>Arousal * Valence</td>\n",
       "      <td>High</td>\n",
       "      <td>High</td>\n",
       "      <td>Low</td>\n",
       "      <td>True</td>\n",
       "      <td>True</td>\n",
       "      <td>-0.110207</td>\n",
       "      <td>29.0</td>\n",
       "      <td>two-sided</td>\n",
       "      <td>0.913004</td>\n",
       "      <td>0.196</td>\n",
       "      <td>-0.008678</td>\n",
       "    </tr>\n",
       "    <tr>\n",
       "      <th>3</th>\n",
       "      <td>Arousal * Valence</td>\n",
       "      <td>Low</td>\n",
       "      <td>High</td>\n",
       "      <td>Low</td>\n",
       "      <td>True</td>\n",
       "      <td>True</td>\n",
       "      <td>-3.338741</td>\n",
       "      <td>29.0</td>\n",
       "      <td>two-sided</td>\n",
       "      <td>0.002322</td>\n",
       "      <td>15.815</td>\n",
       "      <td>-0.324337</td>\n",
       "    </tr>\n",
       "  </tbody>\n",
       "</table>\n",
       "</div>"
      ],
      "text/plain": [
       "            Contrast Arousal     A    B Paired  Parametric         T   dof  \\\n",
       "0            Arousal       -  High  Low   True        True  2.633724  29.0   \n",
       "1            Valence       -  High  Low   True        True -2.355398  29.0   \n",
       "2  Arousal * Valence    High  High  Low   True        True -0.110207  29.0   \n",
       "3  Arousal * Valence     Low  High  Low   True        True -3.338741  29.0   \n",
       "\n",
       "        Tail     p-unc    BF10     cohen  \n",
       "0  two-sided  0.013405   3.518  0.125914  \n",
       "1  two-sided  0.025480   2.064 -0.163950  \n",
       "2  two-sided  0.913004   0.196 -0.008678  \n",
       "3  two-sided  0.002322  15.815 -0.324337  "
      ]
     },
     "execution_count": 64,
     "metadata": {},
     "output_type": "execute_result"
    }
   ],
   "source": [
    "pg.pairwise_ttests(data=final_df, subject='Subject', within=['Arousal', 'Valence'], dv='RT', effsize='cohen')"
   ]
  },
  {
   "cell_type": "markdown",
   "metadata": {},
   "source": [
    "# Criterion"
   ]
  },
  {
   "cell_type": "code",
   "execution_count": 65,
   "metadata": {},
   "outputs": [
    {
     "data": {
      "text/plain": [
       "<matplotlib.legend.Legend at 0x17608e51448>"
      ]
     },
     "execution_count": 65,
     "metadata": {},
     "output_type": "execute_result"
    },
    {
     "data": {
      "image/png": "[encoded data removed]",
      "text/plain": [
       "<Figure size 360x360 with 1 Axes>"
      ]
     },
     "metadata": {
      "needs_background": "light"
     },
     "output_type": "display_data"
    }
   ],
   "source": [
    "sns.set_context('paper')\n",
    "plt.figure(figsize=(5, 5))\n",
    "sns.stripplot(data=final_df, x='Arousal', y='Criterion', hue='Valence',\n",
    "              palette=['firebrick', 'steelblue'], linewidth=1, dodge=True, alpha=.6)\n",
    "sns.pointplot(data=final_df, x='Arousal', y='Criterion', hue='Valence',\n",
    "              palette=['firebrick', 'steelblue'], dodge=True, ci=68)\n",
    "plt.title('Criterion')\n",
    "plt.ylabel('Criterion')\n",
    "sns.despine(trim=10)\n",
    "plt.legend()"
   ]
  },
  {
   "cell_type": "code",
   "execution_count": 66,
   "metadata": {},
   "outputs": [
    {
     "data": {
      "text/html": [
       "<div>\n",
       "<style scoped>\n",
       "    .dataframe tbody tr th:only-of-type {\n",
       "        vertical-align: middle;\n",
       "    }\n",
       "\n",
       "    .dataframe tbody tr th {\n",
       "        vertical-align: top;\n",
       "    }\n",
       "\n",
       "    .dataframe thead th {\n",
       "        text-align: right;\n",
       "    }\n",
       "</style>\n",
       "<table border=\"1\" class=\"dataframe\">\n",
       "  <thead>\n",
       "    <tr style=\"text-align: right;\">\n",
       "      <th></th>\n",
       "      <th>Source</th>\n",
       "      <th>SS</th>\n",
       "      <th>ddof1</th>\n",
       "      <th>ddof2</th>\n",
       "      <th>MS</th>\n",
       "      <th>F</th>\n",
       "      <th>p-unc</th>\n",
       "      <th>p-GG-corr</th>\n",
       "      <th>np2</th>\n",
       "      <th>eps</th>\n",
       "    </tr>\n",
       "  </thead>\n",
       "  <tbody>\n",
       "    <tr>\n",
       "      <th>0</th>\n",
       "      <td>Valence</td>\n",
       "      <td>0.087550</td>\n",
       "      <td>1</td>\n",
       "      <td>29</td>\n",
       "      <td>0.087550</td>\n",
       "      <td>3.681868</td>\n",
       "      <td>0.064898</td>\n",
       "      <td>0.064898</td>\n",
       "      <td>0.112658</td>\n",
       "      <td>1.0</td>\n",
       "    </tr>\n",
       "    <tr>\n",
       "      <th>1</th>\n",
       "      <td>Arousal</td>\n",
       "      <td>0.004077</td>\n",
       "      <td>1</td>\n",
       "      <td>29</td>\n",
       "      <td>0.004077</td>\n",
       "      <td>0.360302</td>\n",
       "      <td>0.553001</td>\n",
       "      <td>0.553001</td>\n",
       "      <td>0.012272</td>\n",
       "      <td>1.0</td>\n",
       "    </tr>\n",
       "    <tr>\n",
       "      <th>2</th>\n",
       "      <td>Valence * Arousal</td>\n",
       "      <td>0.009331</td>\n",
       "      <td>1</td>\n",
       "      <td>29</td>\n",
       "      <td>0.009331</td>\n",
       "      <td>0.631317</td>\n",
       "      <td>0.433327</td>\n",
       "      <td>0.433327</td>\n",
       "      <td>0.021306</td>\n",
       "      <td>1.0</td>\n",
       "    </tr>\n",
       "  </tbody>\n",
       "</table>\n",
       "</div>"
      ],
      "text/plain": [
       "              Source        SS  ddof1  ddof2        MS         F     p-unc  \\\n",
       "0            Valence  0.087550      1     29  0.087550  3.681868  0.064898   \n",
       "1            Arousal  0.004077      1     29  0.004077  0.360302  0.553001   \n",
       "2  Valence * Arousal  0.009331      1     29  0.009331  0.631317  0.433327   \n",
       "\n",
       "   p-GG-corr       np2  eps  \n",
       "0   0.064898  0.112658  1.0  \n",
       "1   0.553001  0.012272  1.0  \n",
       "2   0.433327  0.021306  1.0  "
      ]
     },
     "execution_count": 66,
     "metadata": {},
     "output_type": "execute_result"
    }
   ],
   "source": [
    "pg.rm_anova(data=final_df, subject='Subject', within=['Valence', 'Arousal'], dv='Criterion')"
   ]
  },
  {
   "cell_type": "markdown",
   "metadata": {},
   "source": [
    "# Accuracy"
   ]
  },
  {
   "cell_type": "code",
   "execution_count": 67,
   "metadata": {},
   "outputs": [
    {
     "data": {
      "text/plain": [
       "<matplotlib.legend.Legend at 0x17608ee0548>"
      ]
     },
     "execution_count": 67,
     "metadata": {},
     "output_type": "execute_result"
    },
    {
     "data": {
      "image/png": "[encoded data removed]",
      "text/plain": [
       "<Figure size 360x360 with 1 Axes>"
      ]
     },
     "metadata": {
      "needs_background": "light"
     },
     "output_type": "display_data"
    }
   ],
   "source": [
    "sns.set_context('paper')\n",
    "plt.figure(figsize=(5, 5))\n",
    "sns.stripplot(data=final_df, x='Arousal', y='Accuracy', hue='Valence',\n",
    "              palette=['firebrick', 'steelblue'], linewidth=1, dodge=True, alpha=.6)\n",
    "sns.pointplot(data=final_df, x='Arousal', y='Accuracy', hue='Valence',\n",
    "              palette=['firebrick', 'steelblue'], dodge=True, ci=68)\n",
    "plt.title('Accuracy')\n",
    "plt.ylabel('Accuracy')\n",
    "sns.despine(trim=10)\n",
    "plt.legend()"
   ]
  },
  {
   "cell_type": "code",
   "execution_count": 68,
   "metadata": {},
   "outputs": [
    {
     "data": {
      "text/html": [
       "<div>\n",
       "<style scoped>\n",
       "    .dataframe tbody tr th:only-of-type {\n",
       "        vertical-align: middle;\n",
       "    }\n",
       "\n",
       "    .dataframe tbody tr th {\n",
       "        vertical-align: top;\n",
       "    }\n",
       "\n",
       "    .dataframe thead th {\n",
       "        text-align: right;\n",
       "    }\n",
       "</style>\n",
       "<table border=\"1\" class=\"dataframe\">\n",
       "  <thead>\n",
       "    <tr style=\"text-align: right;\">\n",
       "      <th></th>\n",
       "      <th>Source</th>\n",
       "      <th>SS</th>\n",
       "      <th>ddof1</th>\n",
       "      <th>ddof2</th>\n",
       "      <th>MS</th>\n",
       "      <th>F</th>\n",
       "      <th>p-unc</th>\n",
       "      <th>p-GG-corr</th>\n",
       "      <th>np2</th>\n",
       "      <th>eps</th>\n",
       "    </tr>\n",
       "  </thead>\n",
       "  <tbody>\n",
       "    <tr>\n",
       "      <th>0</th>\n",
       "      <td>Valence</td>\n",
       "      <td>0.012377</td>\n",
       "      <td>1</td>\n",
       "      <td>29</td>\n",
       "      <td>0.012377</td>\n",
       "      <td>9.886778</td>\n",
       "      <td>0.003824</td>\n",
       "      <td>0.003824</td>\n",
       "      <td>0.254245</td>\n",
       "      <td>1.0</td>\n",
       "    </tr>\n",
       "    <tr>\n",
       "      <th>1</th>\n",
       "      <td>Arousal</td>\n",
       "      <td>0.000003</td>\n",
       "      <td>1</td>\n",
       "      <td>29</td>\n",
       "      <td>0.000003</td>\n",
       "      <td>0.002049</td>\n",
       "      <td>0.964202</td>\n",
       "      <td>0.964202</td>\n",
       "      <td>0.000071</td>\n",
       "      <td>1.0</td>\n",
       "    </tr>\n",
       "    <tr>\n",
       "      <th>2</th>\n",
       "      <td>Valence * Arousal</td>\n",
       "      <td>0.009396</td>\n",
       "      <td>1</td>\n",
       "      <td>29</td>\n",
       "      <td>0.009396</td>\n",
       "      <td>7.799039</td>\n",
       "      <td>0.009160</td>\n",
       "      <td>0.009160</td>\n",
       "      <td>0.211936</td>\n",
       "      <td>1.0</td>\n",
       "    </tr>\n",
       "  </tbody>\n",
       "</table>\n",
       "</div>"
      ],
      "text/plain": [
       "              Source        SS  ddof1  ddof2        MS         F     p-unc  \\\n",
       "0            Valence  0.012377      1     29  0.012377  9.886778  0.003824   \n",
       "1            Arousal  0.000003      1     29  0.000003  0.002049  0.964202   \n",
       "2  Valence * Arousal  0.009396      1     29  0.009396  7.799039  0.009160   \n",
       "\n",
       "   p-GG-corr       np2  eps  \n",
       "0   0.003824  0.254245  1.0  \n",
       "1   0.964202  0.000071  1.0  \n",
       "2   0.009160  0.211936  1.0  "
      ]
     },
     "execution_count": 68,
     "metadata": {},
     "output_type": "execute_result"
    }
   ],
   "source": [
    "pg.rm_anova(data=final_df, subject='Subject', within=['Valence', 'Arousal'], dv='Accuracy')"
   ]
  },
  {
   "cell_type": "code",
   "execution_count": 69,
   "metadata": {},
   "outputs": [
    {
     "data": {
      "text/html": [
       "<div>\n",
       "<style scoped>\n",
       "    .dataframe tbody tr th:only-of-type {\n",
       "        vertical-align: middle;\n",
       "    }\n",
       "\n",
       "    .dataframe tbody tr th {\n",
       "        vertical-align: top;\n",
       "    }\n",
       "\n",
       "    .dataframe thead th {\n",
       "        text-align: right;\n",
       "    }\n",
       "</style>\n",
       "<table border=\"1\" class=\"dataframe\">\n",
       "  <thead>\n",
       "    <tr style=\"text-align: right;\">\n",
       "      <th></th>\n",
       "      <th>Contrast</th>\n",
       "      <th>Arousal</th>\n",
       "      <th>A</th>\n",
       "      <th>B</th>\n",
       "      <th>Paired</th>\n",
       "      <th>Parametric</th>\n",
       "      <th>T</th>\n",
       "      <th>dof</th>\n",
       "      <th>Tail</th>\n",
       "      <th>p-unc</th>\n",
       "      <th>BF10</th>\n",
       "      <th>cohen</th>\n",
       "    </tr>\n",
       "  </thead>\n",
       "  <tbody>\n",
       "    <tr>\n",
       "      <th>0</th>\n",
       "      <td>Arousal</td>\n",
       "      <td>-</td>\n",
       "      <td>High</td>\n",
       "      <td>Low</td>\n",
       "      <td>True</td>\n",
       "      <td>True</td>\n",
       "      <td>0.045270</td>\n",
       "      <td>29.0</td>\n",
       "      <td>two-sided</td>\n",
       "      <td>0.964202</td>\n",
       "      <td>0.195</td>\n",
       "      <td>0.007753</td>\n",
       "    </tr>\n",
       "    <tr>\n",
       "      <th>1</th>\n",
       "      <td>Valence</td>\n",
       "      <td>-</td>\n",
       "      <td>High</td>\n",
       "      <td>Low</td>\n",
       "      <td>True</td>\n",
       "      <td>True</td>\n",
       "      <td>3.144325</td>\n",
       "      <td>29.0</td>\n",
       "      <td>two-sided</td>\n",
       "      <td>0.003824</td>\n",
       "      <td>10.255</td>\n",
       "      <td>0.502896</td>\n",
       "    </tr>\n",
       "    <tr>\n",
       "      <th>2</th>\n",
       "      <td>Arousal * Valence</td>\n",
       "      <td>High</td>\n",
       "      <td>High</td>\n",
       "      <td>Low</td>\n",
       "      <td>True</td>\n",
       "      <td>True</td>\n",
       "      <td>0.287420</td>\n",
       "      <td>29.0</td>\n",
       "      <td>two-sided</td>\n",
       "      <td>0.775835</td>\n",
       "      <td>0.202</td>\n",
       "      <td>0.054529</td>\n",
       "    </tr>\n",
       "    <tr>\n",
       "      <th>3</th>\n",
       "      <td>Arousal * Valence</td>\n",
       "      <td>Low</td>\n",
       "      <td>High</td>\n",
       "      <td>Low</td>\n",
       "      <td>True</td>\n",
       "      <td>True</td>\n",
       "      <td>4.221369</td>\n",
       "      <td>29.0</td>\n",
       "      <td>two-sided</td>\n",
       "      <td>0.000219</td>\n",
       "      <td>128.303</td>\n",
       "      <td>0.790707</td>\n",
       "    </tr>\n",
       "  </tbody>\n",
       "</table>\n",
       "</div>"
      ],
      "text/plain": [
       "            Contrast Arousal     A    B Paired  Parametric         T   dof  \\\n",
       "0            Arousal       -  High  Low   True        True  0.045270  29.0   \n",
       "1            Valence       -  High  Low   True        True  3.144325  29.0   \n",
       "2  Arousal * Valence    High  High  Low   True        True  0.287420  29.0   \n",
       "3  Arousal * Valence     Low  High  Low   True        True  4.221369  29.0   \n",
       "\n",
       "        Tail     p-unc     BF10     cohen  \n",
       "0  two-sided  0.964202    0.195  0.007753  \n",
       "1  two-sided  0.003824   10.255  0.502896  \n",
       "2  two-sided  0.775835    0.202  0.054529  \n",
       "3  two-sided  0.000219  128.303  0.790707  "
      ]
     },
     "execution_count": 69,
     "metadata": {},
     "output_type": "execute_result"
    }
   ],
   "source": [
    "pg.pairwise_ttests(data=final_df, subject='Subject', within=['Arousal', 'Valence'], dv='Accuracy', effsize='cohen')"
   ]
  },
  {
   "cell_type": "markdown",
   "metadata": {},
   "source": [
    "# Confidence"
   ]
  },
  {
   "cell_type": "code",
   "execution_count": 70,
   "metadata": {},
   "outputs": [
    {
     "data": {
      "text/plain": [
       "<matplotlib.legend.Legend at 0x17608f71e08>"
      ]
     },
     "execution_count": 70,
     "metadata": {},
     "output_type": "execute_result"
    },
    {
     "data": {
      "image/png": "[encoded data removed]",
      "text/plain": [
       "<Figure size 360x360 with 1 Axes>"
      ]
     },
     "metadata": {
      "needs_background": "light"
     },
     "output_type": "display_data"
    }
   ],
   "source": [
    "sns.set_context('paper')\n",
    "plt.figure(figsize=(5, 5))\n",
    "sns.stripplot(data=final_df, x='Arousal', y='Confidence', hue='Valence',\n",
    "              palette=['firebrick', 'steelblue'], linewidth=1, dodge=True, alpha=.6)\n",
    "sns.pointplot(data=final_df, x='Arousal', y='Confidence', hue='Valence',\n",
    "              palette=['firebrick', 'steelblue'], dodge=True, ci=68)\n",
    "plt.title('Confidence')\n",
    "plt.ylabel('Confidence')\n",
    "sns.despine(trim=10)\n",
    "plt.legend()"
   ]
  },
  {
   "cell_type": "code",
   "execution_count": 71,
   "metadata": {},
   "outputs": [
    {
     "data": {
      "text/html": [
       "<div>\n",
       "<style scoped>\n",
       "    .dataframe tbody tr th:only-of-type {\n",
       "        vertical-align: middle;\n",
       "    }\n",
       "\n",
       "    .dataframe tbody tr th {\n",
       "        vertical-align: top;\n",
       "    }\n",
       "\n",
       "    .dataframe thead th {\n",
       "        text-align: right;\n",
       "    }\n",
       "</style>\n",
       "<table border=\"1\" class=\"dataframe\">\n",
       "  <thead>\n",
       "    <tr style=\"text-align: right;\">\n",
       "      <th></th>\n",
       "      <th>Source</th>\n",
       "      <th>SS</th>\n",
       "      <th>ddof1</th>\n",
       "      <th>ddof2</th>\n",
       "      <th>MS</th>\n",
       "      <th>F</th>\n",
       "      <th>p-unc</th>\n",
       "      <th>p-GG-corr</th>\n",
       "      <th>np2</th>\n",
       "      <th>eps</th>\n",
       "    </tr>\n",
       "  </thead>\n",
       "  <tbody>\n",
       "    <tr>\n",
       "      <th>0</th>\n",
       "      <td>Valence</td>\n",
       "      <td>2.015384</td>\n",
       "      <td>1</td>\n",
       "      <td>29</td>\n",
       "      <td>2.015384</td>\n",
       "      <td>14.976366</td>\n",
       "      <td>0.000569</td>\n",
       "      <td>0.000569</td>\n",
       "      <td>0.340555</td>\n",
       "      <td>1.0</td>\n",
       "    </tr>\n",
       "    <tr>\n",
       "      <th>1</th>\n",
       "      <td>Arousal</td>\n",
       "      <td>0.065074</td>\n",
       "      <td>1</td>\n",
       "      <td>29</td>\n",
       "      <td>0.065074</td>\n",
       "      <td>0.777438</td>\n",
       "      <td>0.385176</td>\n",
       "      <td>0.385176</td>\n",
       "      <td>0.026108</td>\n",
       "      <td>1.0</td>\n",
       "    </tr>\n",
       "    <tr>\n",
       "      <th>2</th>\n",
       "      <td>Valence * Arousal</td>\n",
       "      <td>0.169135</td>\n",
       "      <td>1</td>\n",
       "      <td>29</td>\n",
       "      <td>0.169135</td>\n",
       "      <td>2.918643</td>\n",
       "      <td>0.098246</td>\n",
       "      <td>0.098246</td>\n",
       "      <td>0.091440</td>\n",
       "      <td>1.0</td>\n",
       "    </tr>\n",
       "  </tbody>\n",
       "</table>\n",
       "</div>"
      ],
      "text/plain": [
       "              Source        SS  ddof1  ddof2        MS          F     p-unc  \\\n",
       "0            Valence  2.015384      1     29  2.015384  14.976366  0.000569   \n",
       "1            Arousal  0.065074      1     29  0.065074   0.777438  0.385176   \n",
       "2  Valence * Arousal  0.169135      1     29  0.169135   2.918643  0.098246   \n",
       "\n",
       "   p-GG-corr       np2  eps  \n",
       "0   0.000569  0.340555  1.0  \n",
       "1   0.385176  0.026108  1.0  \n",
       "2   0.098246  0.091440  1.0  "
      ]
     },
     "execution_count": 71,
     "metadata": {},
     "output_type": "execute_result"
    }
   ],
   "source": [
    "pg.rm_anova(data=final_df, subject='Subject', within=['Valence', 'Arousal'], dv='Confidence')"
   ]
  },
  {
   "cell_type": "code",
   "execution_count": 72,
   "metadata": {},
   "outputs": [
    {
     "data": {
      "text/html": [
       "<div>\n",
       "<style scoped>\n",
       "    .dataframe tbody tr th:only-of-type {\n",
       "        vertical-align: middle;\n",
       "    }\n",
       "\n",
       "    .dataframe tbody tr th {\n",
       "        vertical-align: top;\n",
       "    }\n",
       "\n",
       "    .dataframe thead th {\n",
       "        text-align: right;\n",
       "    }\n",
       "</style>\n",
       "<table border=\"1\" class=\"dataframe\">\n",
       "  <thead>\n",
       "    <tr style=\"text-align: right;\">\n",
       "      <th></th>\n",
       "      <th>Contrast</th>\n",
       "      <th>Arousal</th>\n",
       "      <th>A</th>\n",
       "      <th>B</th>\n",
       "      <th>Paired</th>\n",
       "      <th>Parametric</th>\n",
       "      <th>T</th>\n",
       "      <th>dof</th>\n",
       "      <th>Tail</th>\n",
       "      <th>p-unc</th>\n",
       "      <th>BF10</th>\n",
       "      <th>cohen</th>\n",
       "    </tr>\n",
       "  </thead>\n",
       "  <tbody>\n",
       "    <tr>\n",
       "      <th>0</th>\n",
       "      <td>Arousal</td>\n",
       "      <td>-</td>\n",
       "      <td>High</td>\n",
       "      <td>Low</td>\n",
       "      <td>True</td>\n",
       "      <td>True</td>\n",
       "      <td>0.881724</td>\n",
       "      <td>29.0</td>\n",
       "      <td>two-sided</td>\n",
       "      <td>0.385176</td>\n",
       "      <td>0.278</td>\n",
       "      <td>0.067955</td>\n",
       "    </tr>\n",
       "    <tr>\n",
       "      <th>1</th>\n",
       "      <td>Valence</td>\n",
       "      <td>-</td>\n",
       "      <td>High</td>\n",
       "      <td>Low</td>\n",
       "      <td>True</td>\n",
       "      <td>True</td>\n",
       "      <td>3.869931</td>\n",
       "      <td>29.0</td>\n",
       "      <td>two-sided</td>\n",
       "      <td>0.000569</td>\n",
       "      <td>54.614</td>\n",
       "      <td>0.373158</td>\n",
       "    </tr>\n",
       "    <tr>\n",
       "      <th>2</th>\n",
       "      <td>Arousal * Valence</td>\n",
       "      <td>High</td>\n",
       "      <td>High</td>\n",
       "      <td>Low</td>\n",
       "      <td>True</td>\n",
       "      <td>True</td>\n",
       "      <td>2.379631</td>\n",
       "      <td>29.0</td>\n",
       "      <td>two-sided</td>\n",
       "      <td>0.024126</td>\n",
       "      <td>2.158</td>\n",
       "      <td>0.256417</td>\n",
       "    </tr>\n",
       "    <tr>\n",
       "      <th>3</th>\n",
       "      <td>Arousal * Valence</td>\n",
       "      <td>Low</td>\n",
       "      <td>High</td>\n",
       "      <td>Low</td>\n",
       "      <td>True</td>\n",
       "      <td>True</td>\n",
       "      <td>4.039126</td>\n",
       "      <td>29.0</td>\n",
       "      <td>two-sided</td>\n",
       "      <td>0.000360</td>\n",
       "      <td>82.165</td>\n",
       "      <td>0.463461</td>\n",
       "    </tr>\n",
       "  </tbody>\n",
       "</table>\n",
       "</div>"
      ],
      "text/plain": [
       "            Contrast Arousal     A    B Paired  Parametric         T   dof  \\\n",
       "0            Arousal       -  High  Low   True        True  0.881724  29.0   \n",
       "1            Valence       -  High  Low   True        True  3.869931  29.0   \n",
       "2  Arousal * Valence    High  High  Low   True        True  2.379631  29.0   \n",
       "3  Arousal * Valence     Low  High  Low   True        True  4.039126  29.0   \n",
       "\n",
       "        Tail     p-unc    BF10     cohen  \n",
       "0  two-sided  0.385176   0.278  0.067955  \n",
       "1  two-sided  0.000569  54.614  0.373158  \n",
       "2  two-sided  0.024126   2.158  0.256417  \n",
       "3  two-sided  0.000360  82.165  0.463461  "
      ]
     },
     "execution_count": 72,
     "metadata": {},
     "output_type": "execute_result"
    }
   ],
   "source": [
    "pg.pairwise_ttests(data=final_df, subject='Subject', within=['Arousal', 'Valence'], dv='Confidence', effsize='cohen')"
   ]
  },
  {
   "cell_type": "markdown",
   "metadata": {},
   "source": [
    "# D prime"
   ]
  },
  {
   "cell_type": "code",
   "execution_count": 73,
   "metadata": {},
   "outputs": [
    {
     "data": {
      "text/plain": [
       "<matplotlib.legend.Legend at 0x176079f9088>"
      ]
     },
     "execution_count": 73,
     "metadata": {},
     "output_type": "execute_result"
    },
    {
     "data": {
      "image/png": "[encoded data removed]",
      "text/plain": [
       "<Figure size 360x360 with 1 Axes>"
      ]
     },
     "metadata": {
      "needs_background": "light"
     },
     "output_type": "display_data"
    }
   ],
   "source": [
    "sns.set_context('paper')\n",
    "plt.figure(figsize=(5, 5))\n",
    "sns.stripplot(data=final_df, x='Arousal', y='dPrime', hue='Valence',\n",
    "              palette=['firebrick', 'steelblue'], linewidth=1, dodge=True, alpha=.6)\n",
    "sns.pointplot(data=final_df, x='Arousal', y='dPrime', hue='Valence',\n",
    "              palette=['firebrick', 'steelblue'], dodge=True, ci=68)\n",
    "\n",
    "plt.title('d')\n",
    "plt.ylabel('d')\n",
    "sns.despine(trim=10)\n",
    "plt.legend()"
   ]
  },
  {
   "cell_type": "code",
   "execution_count": 74,
   "metadata": {},
   "outputs": [
    {
     "data": {
      "text/html": [
       "<div>\n",
       "<style scoped>\n",
       "    .dataframe tbody tr th:only-of-type {\n",
       "        vertical-align: middle;\n",
       "    }\n",
       "\n",
       "    .dataframe tbody tr th {\n",
       "        vertical-align: top;\n",
       "    }\n",
       "\n",
       "    .dataframe thead th {\n",
       "        text-align: right;\n",
       "    }\n",
       "</style>\n",
       "<table border=\"1\" class=\"dataframe\">\n",
       "  <thead>\n",
       "    <tr style=\"text-align: right;\">\n",
       "      <th></th>\n",
       "      <th>Source</th>\n",
       "      <th>SS</th>\n",
       "      <th>ddof1</th>\n",
       "      <th>ddof2</th>\n",
       "      <th>MS</th>\n",
       "      <th>F</th>\n",
       "      <th>p-unc</th>\n",
       "      <th>p-GG-corr</th>\n",
       "      <th>np2</th>\n",
       "      <th>eps</th>\n",
       "    </tr>\n",
       "  </thead>\n",
       "  <tbody>\n",
       "    <tr>\n",
       "      <th>0</th>\n",
       "      <td>Valence</td>\n",
       "      <td>0.576603</td>\n",
       "      <td>1</td>\n",
       "      <td>29</td>\n",
       "      <td>0.576603</td>\n",
       "      <td>11.343894</td>\n",
       "      <td>0.002152</td>\n",
       "      <td>0.002152</td>\n",
       "      <td>0.281180</td>\n",
       "      <td>1.0</td>\n",
       "    </tr>\n",
       "    <tr>\n",
       "      <th>1</th>\n",
       "      <td>Arousal</td>\n",
       "      <td>0.005643</td>\n",
       "      <td>1</td>\n",
       "      <td>29</td>\n",
       "      <td>0.005643</td>\n",
       "      <td>0.098762</td>\n",
       "      <td>0.755570</td>\n",
       "      <td>0.755570</td>\n",
       "      <td>0.003394</td>\n",
       "      <td>1.0</td>\n",
       "    </tr>\n",
       "    <tr>\n",
       "      <th>2</th>\n",
       "      <td>Valence * Arousal</td>\n",
       "      <td>0.352807</td>\n",
       "      <td>1</td>\n",
       "      <td>29</td>\n",
       "      <td>0.352807</td>\n",
       "      <td>7.342599</td>\n",
       "      <td>0.011187</td>\n",
       "      <td>0.011187</td>\n",
       "      <td>0.202038</td>\n",
       "      <td>1.0</td>\n",
       "    </tr>\n",
       "  </tbody>\n",
       "</table>\n",
       "</div>"
      ],
      "text/plain": [
       "              Source        SS  ddof1  ddof2        MS          F     p-unc  \\\n",
       "0            Valence  0.576603      1     29  0.576603  11.343894  0.002152   \n",
       "1            Arousal  0.005643      1     29  0.005643   0.098762  0.755570   \n",
       "2  Valence * Arousal  0.352807      1     29  0.352807   7.342599  0.011187   \n",
       "\n",
       "   p-GG-corr       np2  eps  \n",
       "0   0.002152  0.281180  1.0  \n",
       "1   0.755570  0.003394  1.0  \n",
       "2   0.011187  0.202038  1.0  "
      ]
     },
     "execution_count": 74,
     "metadata": {},
     "output_type": "execute_result"
    }
   ],
   "source": [
    "pg.rm_anova(data=final_df, subject='Subject', within=['Valence', 'Arousal'], dv='dPrime')"
   ]
  },
  {
   "cell_type": "code",
   "execution_count": 75,
   "metadata": {},
   "outputs": [
    {
     "data": {
      "text/html": [
       "<div>\n",
       "<style scoped>\n",
       "    .dataframe tbody tr th:only-of-type {\n",
       "        vertical-align: middle;\n",
       "    }\n",
       "\n",
       "    .dataframe tbody tr th {\n",
       "        vertical-align: top;\n",
       "    }\n",
       "\n",
       "    .dataframe thead th {\n",
       "        text-align: right;\n",
       "    }\n",
       "</style>\n",
       "<table border=\"1\" class=\"dataframe\">\n",
       "  <thead>\n",
       "    <tr style=\"text-align: right;\">\n",
       "      <th></th>\n",
       "      <th>Contrast</th>\n",
       "      <th>Arousal</th>\n",
       "      <th>A</th>\n",
       "      <th>B</th>\n",
       "      <th>Paired</th>\n",
       "      <th>Parametric</th>\n",
       "      <th>T</th>\n",
       "      <th>dof</th>\n",
       "      <th>Tail</th>\n",
       "      <th>p-unc</th>\n",
       "      <th>BF10</th>\n",
       "      <th>cohen</th>\n",
       "    </tr>\n",
       "  </thead>\n",
       "  <tbody>\n",
       "    <tr>\n",
       "      <th>0</th>\n",
       "      <td>Arousal</td>\n",
       "      <td>-</td>\n",
       "      <td>High</td>\n",
       "      <td>Low</td>\n",
       "      <td>True</td>\n",
       "      <td>True</td>\n",
       "      <td>-0.314265</td>\n",
       "      <td>29.0</td>\n",
       "      <td>two-sided</td>\n",
       "      <td>0.755570</td>\n",
       "      <td>0.204</td>\n",
       "      <td>-0.054319</td>\n",
       "    </tr>\n",
       "    <tr>\n",
       "      <th>1</th>\n",
       "      <td>Valence</td>\n",
       "      <td>-</td>\n",
       "      <td>High</td>\n",
       "      <td>Low</td>\n",
       "      <td>True</td>\n",
       "      <td>True</td>\n",
       "      <td>3.368070</td>\n",
       "      <td>29.0</td>\n",
       "      <td>two-sided</td>\n",
       "      <td>0.002152</td>\n",
       "      <td>16.901</td>\n",
       "      <td>0.555989</td>\n",
       "    </tr>\n",
       "    <tr>\n",
       "      <th>2</th>\n",
       "      <td>Arousal * Valence</td>\n",
       "      <td>High</td>\n",
       "      <td>High</td>\n",
       "      <td>Low</td>\n",
       "      <td>True</td>\n",
       "      <td>True</td>\n",
       "      <td>0.522634</td>\n",
       "      <td>29.0</td>\n",
       "      <td>two-sided</td>\n",
       "      <td>0.605199</td>\n",
       "      <td>0.221</td>\n",
       "      <td>0.100865</td>\n",
       "    </tr>\n",
       "    <tr>\n",
       "      <th>3</th>\n",
       "      <td>Arousal * Valence</td>\n",
       "      <td>Low</td>\n",
       "      <td>High</td>\n",
       "      <td>Low</td>\n",
       "      <td>True</td>\n",
       "      <td>True</td>\n",
       "      <td>4.330970</td>\n",
       "      <td>29.0</td>\n",
       "      <td>two-sided</td>\n",
       "      <td>0.000162</td>\n",
       "      <td>168.153</td>\n",
       "      <td>0.836016</td>\n",
       "    </tr>\n",
       "  </tbody>\n",
       "</table>\n",
       "</div>"
      ],
      "text/plain": [
       "            Contrast Arousal     A    B Paired  Parametric         T   dof  \\\n",
       "0            Arousal       -  High  Low   True        True -0.314265  29.0   \n",
       "1            Valence       -  High  Low   True        True  3.368070  29.0   \n",
       "2  Arousal * Valence    High  High  Low   True        True  0.522634  29.0   \n",
       "3  Arousal * Valence     Low  High  Low   True        True  4.330970  29.0   \n",
       "\n",
       "        Tail     p-unc     BF10     cohen  \n",
       "0  two-sided  0.755570    0.204 -0.054319  \n",
       "1  two-sided  0.002152   16.901  0.555989  \n",
       "2  two-sided  0.605199    0.221  0.100865  \n",
       "3  two-sided  0.000162  168.153  0.836016  "
      ]
     },
     "execution_count": 75,
     "metadata": {},
     "output_type": "execute_result"
    }
   ],
   "source": [
    "pg.pairwise_ttests(data=final_df, subject='Subject', within=['Arousal', 'Valence'], dv='dPrime', effsize='cohen')"
   ]
  },
  {
   "cell_type": "markdown",
   "metadata": {},
   "source": [
    "# Meta-d'"
   ]
  },
  {
   "cell_type": "code",
   "execution_count": 76,
   "metadata": {},
   "outputs": [
    {
     "data": {
      "text/plain": [
       "<matplotlib.legend.Legend at 0x17609068508>"
      ]
     },
     "execution_count": 76,
     "metadata": {},
     "output_type": "execute_result"
    },
    {
     "data": {
      "image/png": "[encoded data removed]",
      "text/plain": [
       "<Figure size 360x360 with 1 Axes>"
      ]
     },
     "metadata": {
      "needs_background": "light"
     },
     "output_type": "display_data"
    }
   ],
   "source": [
    "sns.set_context('paper')\n",
    "plt.figure(figsize=(5, 5))\n",
    "sns.stripplot(data=metadprime_df, x='Arousal', y='MetadPrime', hue='Valence',\n",
    "               palette=['firebrick', 'steelblue'], linewidth=1, dodge=True, alpha=.6)\n",
    "sns.pointplot(data=metadprime_df, x='Arousal', y='MetadPrime', hue='Valence',\n",
    "              palette=['firebrick', 'steelblue'], dodge=True, ci=68)\n",
    "plt.title('Meta-d')\n",
    "plt.ylabel('Meta-d')\n",
    "sns.despine(trim=10)\n",
    "plt.legend()"
   ]
  },
  {
   "cell_type": "code",
   "execution_count": 77,
   "metadata": {},
   "outputs": [
    {
     "data": {
      "text/html": [
       "<div>\n",
       "<style scoped>\n",
       "    .dataframe tbody tr th:only-of-type {\n",
       "        vertical-align: middle;\n",
       "    }\n",
       "\n",
       "    .dataframe tbody tr th {\n",
       "        vertical-align: top;\n",
       "    }\n",
       "\n",
       "    .dataframe thead th {\n",
       "        text-align: right;\n",
       "    }\n",
       "</style>\n",
       "<table border=\"1\" class=\"dataframe\">\n",
       "  <thead>\n",
       "    <tr style=\"text-align: right;\">\n",
       "      <th></th>\n",
       "      <th>Source</th>\n",
       "      <th>SS</th>\n",
       "      <th>ddof1</th>\n",
       "      <th>ddof2</th>\n",
       "      <th>MS</th>\n",
       "      <th>F</th>\n",
       "      <th>p-unc</th>\n",
       "      <th>p-GG-corr</th>\n",
       "      <th>np2</th>\n",
       "      <th>eps</th>\n",
       "    </tr>\n",
       "  </thead>\n",
       "  <tbody>\n",
       "    <tr>\n",
       "      <th>0</th>\n",
       "      <td>Valence</td>\n",
       "      <td>1.467853</td>\n",
       "      <td>1</td>\n",
       "      <td>34</td>\n",
       "      <td>1.467853</td>\n",
       "      <td>12.579591</td>\n",
       "      <td>0.001161</td>\n",
       "      <td>0.001161</td>\n",
       "      <td>0.270067</td>\n",
       "      <td>1.0</td>\n",
       "    </tr>\n",
       "    <tr>\n",
       "      <th>1</th>\n",
       "      <td>Arousal</td>\n",
       "      <td>0.108339</td>\n",
       "      <td>1</td>\n",
       "      <td>34</td>\n",
       "      <td>0.108339</td>\n",
       "      <td>1.711340</td>\n",
       "      <td>0.199587</td>\n",
       "      <td>0.199587</td>\n",
       "      <td>0.047921</td>\n",
       "      <td>1.0</td>\n",
       "    </tr>\n",
       "    <tr>\n",
       "      <th>2</th>\n",
       "      <td>Valence * Arousal</td>\n",
       "      <td>0.044779</td>\n",
       "      <td>1</td>\n",
       "      <td>34</td>\n",
       "      <td>0.044779</td>\n",
       "      <td>0.477586</td>\n",
       "      <td>0.494209</td>\n",
       "      <td>0.494209</td>\n",
       "      <td>0.013852</td>\n",
       "      <td>1.0</td>\n",
       "    </tr>\n",
       "  </tbody>\n",
       "</table>\n",
       "</div>"
      ],
      "text/plain": [
       "              Source        SS  ddof1  ddof2        MS          F     p-unc  \\\n",
       "0            Valence  1.467853      1     34  1.467853  12.579591  0.001161   \n",
       "1            Arousal  0.108339      1     34  0.108339   1.711340  0.199587   \n",
       "2  Valence * Arousal  0.044779      1     34  0.044779   0.477586  0.494209   \n",
       "\n",
       "   p-GG-corr       np2  eps  \n",
       "0   0.001161  0.270067  1.0  \n",
       "1   0.199587  0.047921  1.0  \n",
       "2   0.494209  0.013852  1.0  "
      ]
     },
     "execution_count": 77,
     "metadata": {},
     "output_type": "execute_result"
    }
   ],
   "source": [
    "pg.rm_anova(data=metadprime_df, subject='Subject', within=['Valence', 'Arousal'], dv='MetadPrime')"
   ]
  },
  {
   "cell_type": "code",
   "execution_count": 78,
   "metadata": {},
   "outputs": [
    {
     "data": {
      "text/html": [
       "<div>\n",
       "<style scoped>\n",
       "    .dataframe tbody tr th:only-of-type {\n",
       "        vertical-align: middle;\n",
       "    }\n",
       "\n",
       "    .dataframe tbody tr th {\n",
       "        vertical-align: top;\n",
       "    }\n",
       "\n",
       "    .dataframe thead th {\n",
       "        text-align: right;\n",
       "    }\n",
       "</style>\n",
       "<table border=\"1\" class=\"dataframe\">\n",
       "  <thead>\n",
       "    <tr style=\"text-align: right;\">\n",
       "      <th></th>\n",
       "      <th>Contrast</th>\n",
       "      <th>Arousal</th>\n",
       "      <th>A</th>\n",
       "      <th>B</th>\n",
       "      <th>Paired</th>\n",
       "      <th>Parametric</th>\n",
       "      <th>T</th>\n",
       "      <th>dof</th>\n",
       "      <th>Tail</th>\n",
       "      <th>p-unc</th>\n",
       "      <th>BF10</th>\n",
       "      <th>cohen</th>\n",
       "    </tr>\n",
       "  </thead>\n",
       "  <tbody>\n",
       "    <tr>\n",
       "      <th>0</th>\n",
       "      <td>Arousal</td>\n",
       "      <td>-</td>\n",
       "      <td>High</td>\n",
       "      <td>Low</td>\n",
       "      <td>True</td>\n",
       "      <td>True</td>\n",
       "      <td>-1.308182</td>\n",
       "      <td>34.0</td>\n",
       "      <td>two-sided</td>\n",
       "      <td>0.199587</td>\n",
       "      <td>0.396</td>\n",
       "      <td>-0.126589</td>\n",
       "    </tr>\n",
       "    <tr>\n",
       "      <th>1</th>\n",
       "      <td>Valence</td>\n",
       "      <td>-</td>\n",
       "      <td>High</td>\n",
       "      <td>Low</td>\n",
       "      <td>True</td>\n",
       "      <td>True</td>\n",
       "      <td>3.546772</td>\n",
       "      <td>34.0</td>\n",
       "      <td>two-sided</td>\n",
       "      <td>0.001161</td>\n",
       "      <td>27.812</td>\n",
       "      <td>0.450649</td>\n",
       "    </tr>\n",
       "    <tr>\n",
       "      <th>2</th>\n",
       "      <td>Arousal * Valence</td>\n",
       "      <td>High</td>\n",
       "      <td>High</td>\n",
       "      <td>Low</td>\n",
       "      <td>True</td>\n",
       "      <td>True</td>\n",
       "      <td>2.416093</td>\n",
       "      <td>34.0</td>\n",
       "      <td>two-sided</td>\n",
       "      <td>0.021208</td>\n",
       "      <td>2.27</td>\n",
       "      <td>0.344644</td>\n",
       "    </tr>\n",
       "    <tr>\n",
       "      <th>3</th>\n",
       "      <td>Arousal * Valence</td>\n",
       "      <td>Low</td>\n",
       "      <td>High</td>\n",
       "      <td>Low</td>\n",
       "      <td>True</td>\n",
       "      <td>True</td>\n",
       "      <td>2.848554</td>\n",
       "      <td>34.0</td>\n",
       "      <td>two-sided</td>\n",
       "      <td>0.007403</td>\n",
       "      <td>5.525</td>\n",
       "      <td>0.480121</td>\n",
       "    </tr>\n",
       "  </tbody>\n",
       "</table>\n",
       "</div>"
      ],
      "text/plain": [
       "            Contrast Arousal     A    B Paired  Parametric         T   dof  \\\n",
       "0            Arousal       -  High  Low   True        True -1.308182  34.0   \n",
       "1            Valence       -  High  Low   True        True  3.546772  34.0   \n",
       "2  Arousal * Valence    High  High  Low   True        True  2.416093  34.0   \n",
       "3  Arousal * Valence     Low  High  Low   True        True  2.848554  34.0   \n",
       "\n",
       "        Tail     p-unc    BF10     cohen  \n",
       "0  two-sided  0.199587   0.396 -0.126589  \n",
       "1  two-sided  0.001161  27.812  0.450649  \n",
       "2  two-sided  0.021208    2.27  0.344644  \n",
       "3  two-sided  0.007403   5.525  0.480121  "
      ]
     },
     "execution_count": 78,
     "metadata": {},
     "output_type": "execute_result"
    }
   ],
   "source": [
    "pg.pairwise_ttests(data=metadprime_df, subject='Subject', within=['Arousal', 'Valence'], dv='MetadPrime', effsize='cohen')"
   ]
  },
  {
   "cell_type": "markdown",
   "metadata": {},
   "source": [
    "# M ratio"
   ]
  },
  {
   "cell_type": "code",
   "execution_count": 79,
   "metadata": {},
   "outputs": [
    {
     "data": {
      "text/plain": [
       "<matplotlib.legend.Legend at 0x176090f8688>"
      ]
     },
     "execution_count": 79,
     "metadata": {},
     "output_type": "execute_result"
    },
    {
     "data": {
      "image/png": "[encoded data removed]",
      "text/plain": [
       "<Figure size 360x360 with 1 Axes>"
      ]
     },
     "metadata": {
      "needs_background": "light"
     },
     "output_type": "display_data"
    }
   ],
   "source": [
    "sns.set_context('paper')\n",
    "plt.figure(figsize=(5, 5))\n",
    "sns.stripplot(data=final_df, x='Arousal', y='Mratio', hue='Valence',\n",
    "               palette=['firebrick', 'steelblue'], linewidth=1, dodge=True, alpha=.6)\n",
    "sns.pointplot(data=final_df, x='Arousal', y='Mratio', hue='Valence',\n",
    "              palette=['firebrick', 'steelblue'], dodge=True, ci=68)\n",
    "plt.title('Meta-d/d')\n",
    "plt.ylabel('Meta-d/d')\n",
    "sns.despine(trim=10)\n",
    "plt.legend()"
   ]
  },
  {
   "cell_type": "code",
   "execution_count": 80,
   "metadata": {},
   "outputs": [
    {
     "data": {
      "text/html": [
       "<div>\n",
       "<style scoped>\n",
       "    .dataframe tbody tr th:only-of-type {\n",
       "        vertical-align: middle;\n",
       "    }\n",
       "\n",
       "    .dataframe tbody tr th {\n",
       "        vertical-align: top;\n",
       "    }\n",
       "\n",
       "    .dataframe thead th {\n",
       "        text-align: right;\n",
       "    }\n",
       "</style>\n",
       "<table border=\"1\" class=\"dataframe\">\n",
       "  <thead>\n",
       "    <tr style=\"text-align: right;\">\n",
       "      <th></th>\n",
       "      <th>Source</th>\n",
       "      <th>SS</th>\n",
       "      <th>ddof1</th>\n",
       "      <th>ddof2</th>\n",
       "      <th>MS</th>\n",
       "      <th>F</th>\n",
       "      <th>p-unc</th>\n",
       "      <th>p-GG-corr</th>\n",
       "      <th>np2</th>\n",
       "      <th>eps</th>\n",
       "    </tr>\n",
       "  </thead>\n",
       "  <tbody>\n",
       "    <tr>\n",
       "      <th>0</th>\n",
       "      <td>Valence</td>\n",
       "      <td>0.052251</td>\n",
       "      <td>1</td>\n",
       "      <td>29</td>\n",
       "      <td>0.052251</td>\n",
       "      <td>0.539208</td>\n",
       "      <td>0.468657</td>\n",
       "      <td>0.468657</td>\n",
       "      <td>0.018254</td>\n",
       "      <td>1.0</td>\n",
       "    </tr>\n",
       "    <tr>\n",
       "      <th>1</th>\n",
       "      <td>Arousal</td>\n",
       "      <td>0.029990</td>\n",
       "      <td>1</td>\n",
       "      <td>29</td>\n",
       "      <td>0.029990</td>\n",
       "      <td>0.259326</td>\n",
       "      <td>0.614437</td>\n",
       "      <td>0.614437</td>\n",
       "      <td>0.008863</td>\n",
       "      <td>1.0</td>\n",
       "    </tr>\n",
       "    <tr>\n",
       "      <th>2</th>\n",
       "      <td>Valence * Arousal</td>\n",
       "      <td>0.222731</td>\n",
       "      <td>1</td>\n",
       "      <td>29</td>\n",
       "      <td>0.222731</td>\n",
       "      <td>1.932529</td>\n",
       "      <td>0.175061</td>\n",
       "      <td>0.175061</td>\n",
       "      <td>0.062476</td>\n",
       "      <td>1.0</td>\n",
       "    </tr>\n",
       "  </tbody>\n",
       "</table>\n",
       "</div>"
      ],
      "text/plain": [
       "              Source        SS  ddof1  ddof2        MS         F     p-unc  \\\n",
       "0            Valence  0.052251      1     29  0.052251  0.539208  0.468657   \n",
       "1            Arousal  0.029990      1     29  0.029990  0.259326  0.614437   \n",
       "2  Valence * Arousal  0.222731      1     29  0.222731  1.932529  0.175061   \n",
       "\n",
       "   p-GG-corr       np2  eps  \n",
       "0   0.468657  0.018254  1.0  \n",
       "1   0.614437  0.008863  1.0  \n",
       "2   0.175061  0.062476  1.0  "
      ]
     },
     "execution_count": 80,
     "metadata": {},
     "output_type": "execute_result"
    }
   ],
   "source": [
    "pg.rm_anova(data=final_df, subject='Subject', within=['Valence', 'Arousal'], dv='Mratio')"
   ]
  },
  {
   "cell_type": "code",
   "execution_count": 81,
   "metadata": {},
   "outputs": [
    {
     "data": {
      "text/html": [
       "<div>\n",
       "<style scoped>\n",
       "    .dataframe tbody tr th:only-of-type {\n",
       "        vertical-align: middle;\n",
       "    }\n",
       "\n",
       "    .dataframe tbody tr th {\n",
       "        vertical-align: top;\n",
       "    }\n",
       "\n",
       "    .dataframe thead th {\n",
       "        text-align: right;\n",
       "    }\n",
       "</style>\n",
       "<table border=\"1\" class=\"dataframe\">\n",
       "  <thead>\n",
       "    <tr style=\"text-align: right;\">\n",
       "      <th></th>\n",
       "      <th>Contrast</th>\n",
       "      <th>Arousal</th>\n",
       "      <th>A</th>\n",
       "      <th>B</th>\n",
       "      <th>Paired</th>\n",
       "      <th>Parametric</th>\n",
       "      <th>T</th>\n",
       "      <th>dof</th>\n",
       "      <th>Tail</th>\n",
       "      <th>p-unc</th>\n",
       "      <th>BF10</th>\n",
       "      <th>cohen</th>\n",
       "    </tr>\n",
       "  </thead>\n",
       "  <tbody>\n",
       "    <tr>\n",
       "      <th>0</th>\n",
       "      <td>Arousal</td>\n",
       "      <td>-</td>\n",
       "      <td>High</td>\n",
       "      <td>Low</td>\n",
       "      <td>True</td>\n",
       "      <td>True</td>\n",
       "      <td>-0.509240</td>\n",
       "      <td>29.0</td>\n",
       "      <td>two-sided</td>\n",
       "      <td>0.614437</td>\n",
       "      <td>0.219</td>\n",
       "      <td>-0.127510</td>\n",
       "    </tr>\n",
       "    <tr>\n",
       "      <th>1</th>\n",
       "      <td>Valence</td>\n",
       "      <td>-</td>\n",
       "      <td>High</td>\n",
       "      <td>Low</td>\n",
       "      <td>True</td>\n",
       "      <td>True</td>\n",
       "      <td>0.734308</td>\n",
       "      <td>29.0</td>\n",
       "      <td>two-sided</td>\n",
       "      <td>0.468657</td>\n",
       "      <td>0.249</td>\n",
       "      <td>0.175112</td>\n",
       "    </tr>\n",
       "    <tr>\n",
       "      <th>2</th>\n",
       "      <td>Arousal * Valence</td>\n",
       "      <td>High</td>\n",
       "      <td>High</td>\n",
       "      <td>Low</td>\n",
       "      <td>True</td>\n",
       "      <td>True</td>\n",
       "      <td>1.572879</td>\n",
       "      <td>29.0</td>\n",
       "      <td>two-sided</td>\n",
       "      <td>0.126595</td>\n",
       "      <td>0.586</td>\n",
       "      <td>0.352469</td>\n",
       "    </tr>\n",
       "    <tr>\n",
       "      <th>3</th>\n",
       "      <td>Arousal * Valence</td>\n",
       "      <td>Low</td>\n",
       "      <td>High</td>\n",
       "      <td>Low</td>\n",
       "      <td>True</td>\n",
       "      <td>True</td>\n",
       "      <td>-0.511965</td>\n",
       "      <td>29.0</td>\n",
       "      <td>two-sided</td>\n",
       "      <td>0.612553</td>\n",
       "      <td>0.219</td>\n",
       "      <td>-0.142382</td>\n",
       "    </tr>\n",
       "  </tbody>\n",
       "</table>\n",
       "</div>"
      ],
      "text/plain": [
       "            Contrast Arousal     A    B Paired  Parametric         T   dof  \\\n",
       "0            Arousal       -  High  Low   True        True -0.509240  29.0   \n",
       "1            Valence       -  High  Low   True        True  0.734308  29.0   \n",
       "2  Arousal * Valence    High  High  Low   True        True  1.572879  29.0   \n",
       "3  Arousal * Valence     Low  High  Low   True        True -0.511965  29.0   \n",
       "\n",
       "        Tail     p-unc   BF10     cohen  \n",
       "0  two-sided  0.614437  0.219 -0.127510  \n",
       "1  two-sided  0.468657  0.249  0.175112  \n",
       "2  two-sided  0.126595  0.586  0.352469  \n",
       "3  two-sided  0.612553  0.219 -0.142382  "
      ]
     },
     "execution_count": 81,
     "metadata": {},
     "output_type": "execute_result"
    }
   ],
   "source": [
    "pg.pairwise_ttests(data=final_df, subject='Subject', within=['Arousal', 'Valence'], dv='Mratio', effsize='cohen')"
   ]
  },
  {
   "cell_type": "code",
   "execution_count": null,
   "metadata": {},
   "outputs": [],
   "source": []
  }
 ],
 "metadata": {
  "kernelspec": {
   "display_name": "Python 3",
   "language": "python",
   "name": "python3"
  },
  "language_info": {
   "codemirror_mode": {
    "name": "ipython",
    "version": 3
   },
   "file_extension": ".py",
   "mimetype": "text/x-python",
   "name": "python",
   "nbconvert_exporter": "python",
   "pygments_lexer": "ipython3",
   "version": "3.7.6"
  }
 },
 "nbformat": 4,
 "nbformat_minor": 4
}
